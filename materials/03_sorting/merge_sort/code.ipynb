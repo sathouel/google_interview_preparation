{
 "cells": [
  {
   "cell_type": "code",
   "execution_count": 4,
   "metadata": {
    "collapsed": true
   },
   "outputs": [],
   "source": [
    "myList = [38, 27, 43, 3, 9, 82, 10]            "
   ]
  },
  {
   "cell_type": "markdown",
   "metadata": {},
   "source": [
    "# Using Recursion"
   ]
  },
  {
   "cell_type": "code",
   "execution_count": 5,
   "metadata": {
    "collapsed": true
   },
   "outputs": [],
   "source": [
    "def merge(left, right):\n",
    "    if (type(left) != type(right)) | (type(left) != list):\n",
    "#         return []\n",
    "        raise TypeError(\"list objects expected receive: %s \" % str(type(left)))\n",
    "    sol = []\n",
    "    for _ in range(len(left)+len(right)):\n",
    "        if not left:\n",
    "            sol += right\n",
    "            break\n",
    "        if not right:\n",
    "            sol += left\n",
    "            break\n",
    "        if left[0] <= right[0]:\n",
    "            sol.append(left.pop(0))\n",
    "        else:\n",
    "            sol.append(right.pop(0))\n",
    "    return sol"
   ]
  },
  {
   "cell_type": "code",
   "execution_count": 23,
   "metadata": {
    "collapsed": true
   },
   "outputs": [],
   "source": [
    "def merge_sort(tab, l, r):\n",
    "    if r == l:\n",
    "#         print(\"in\")\n",
    "        return [tab[r]]\n",
    "    if r > l:\n",
    "        m = int(int(l+r)/2)\n",
    "#         print(\"m == %d, l == %d, r == %d \" % (m, l, r))\n",
    "        left = merge_sort(tab, l, m)\n",
    "        right = merge_sort(tab, m+1, r)\n",
    "        return merge(left, right)\n"
   ]
  },
  {
   "cell_type": "code",
   "execution_count": 7,
   "metadata": {},
   "outputs": [
    {
     "name": "stdout",
     "output_type": "stream",
     "text": [
      "m == 3, l == 0, r == 6 \n",
      "m == 1, l == 0, r == 3 \n",
      "m == 0, l == 0, r == 1 \n",
      "m == 2, l == 2, r == 3 \n",
      "m == 5, l == 4, r == 6 \n",
      "m == 4, l == 4, r == 5 \n"
     ]
    },
    {
     "data": {
      "text/plain": [
       "[3, 9, 10, 27, 38, 43, 82]"
      ]
     },
     "execution_count": 7,
     "metadata": {},
     "output_type": "execute_result"
    }
   ],
   "source": [
    "merge_sort(myList, 0, len(myList) - 1)\n"
   ]
  },
  {
   "cell_type": "markdown",
   "metadata": {},
   "source": [
    "# Without Recursion"
   ]
  },
  {
   "cell_type": "code",
   "execution_count": 8,
   "metadata": {
    "collapsed": true
   },
   "outputs": [],
   "source": [
    "def merge_sort_2(tab):\n",
    "    for j in range(1, len(tab)):\n",
    "        j*=2\n",
    "        for i in range(0, len(tab), j):\n",
    "            left = tab[i : i+int(j/2)]\n",
    "            right = tab[i+int(j/2) : j-i]\n",
    "            l = m = 0\n",
    "            while l < len(left) and m < len(right):\n",
    "                if left[l] < right[m]:\n",
    "                    m += 1\n",
    "                elif left[l] > right[m]:\n",
    "                    left[l], right[m] = right[m], left[l]\n",
    "                    l += 1\n",
    "            tab[i : i+int(j/2)], tab[i+int(j/2) : j-i] = left, right\n",
    "            \n",
    "    return tab\n",
    "    "
   ]
  },
  {
   "cell_type": "code",
   "execution_count": 9,
   "metadata": {},
   "outputs": [
    {
     "data": {
      "text/plain": [
       "[3, 27, 43, 38, 9, 82, 10]"
      ]
     },
     "execution_count": 9,
     "metadata": {},
     "output_type": "execute_result"
    }
   ],
   "source": [
    "merge_sort_2(myList)"
   ]
  },
  {
   "cell_type": "markdown",
   "metadata": {},
   "source": [
    "# Testing"
   ]
  },
  {
   "cell_type": "code",
   "execution_count": 20,
   "metadata": {},
   "outputs": [],
   "source": [
    "from random import randint\n",
    "\n",
    "class mergeSortTest:\n",
    "    \n",
    "    def __init__(self, list_number, list_max_size, list_max_val):\n",
    "        self.list_number = list_number\n",
    "        self.list_max_size = list_max_size\n",
    "        self.list_max_val = list_max_val\n",
    "        self.list_of_lists = []\n",
    "        self.generate_lists()\n",
    "        \n",
    "    def generate_lists(self):\n",
    "        lists_sizes = [randint(1, self.list_max_size) for _ in range(self.list_number)]\n",
    "        for size in lists_sizes:\n",
    "            l = [randint(0, self.list_max_val) for _ in range(size)]\n",
    "            self.list_of_lists.append(l)\n",
    "    \n",
    "    def test_1(self):\n",
    "        for i, l in enumerate(self.list_of_lists):\n",
    "            sorted_1 = merge_sort(l, 0, len(l) - 1)\n",
    "            l.sort()\n",
    "            if sorted_1 != l:\n",
    "                print(\"%d - error !\" % i)\n",
    "            else:\n",
    "                print(\"%d - OK\" % i)\n",
    "    \n",
    "    def test_2(self):\n",
    "        for i, l in enumerate(self.list_of_lists):\n",
    "            sorted_1 = merge_sort_2(l)\n",
    "            l.sort()\n",
    "            if sorted_1 != l:\n",
    "                print(\"%d - error !\" % i)\n",
    "            else:\n",
    "                print(\"%d - OK\" % i)\n",
    "        "
   ]
  },
  {
   "cell_type": "code",
   "execution_count": 27,
   "metadata": {
    "collapsed": true
   },
   "outputs": [],
   "source": [
    "test = mergeSortTest(200, 50, 100)\n"
   ]
  },
  {
   "cell_type": "code",
   "execution_count": 28,
   "metadata": {},
   "outputs": [
    {
     "name": "stdout",
     "output_type": "stream",
     "text": [
      "0 - OK\n",
      "1 - OK\n",
      "2 - OK\n",
      "3 - OK\n",
      "4 - OK\n",
      "5 - OK\n",
      "6 - OK\n",
      "7 - OK\n",
      "8 - OK\n",
      "9 - OK\n",
      "10 - OK\n",
      "11 - OK\n",
      "12 - OK\n",
      "13 - OK\n",
      "14 - OK\n",
      "15 - OK\n",
      "16 - OK\n",
      "17 - OK\n",
      "18 - OK\n",
      "19 - OK\n",
      "20 - OK\n",
      "21 - OK\n",
      "22 - OK\n",
      "23 - OK\n",
      "24 - OK\n",
      "25 - OK\n",
      "26 - OK\n",
      "27 - OK\n",
      "28 - OK\n",
      "29 - OK\n",
      "30 - OK\n",
      "31 - OK\n",
      "32 - OK\n",
      "33 - OK\n",
      "34 - OK\n",
      "35 - OK\n",
      "36 - OK\n",
      "37 - OK\n",
      "38 - OK\n",
      "39 - OK\n",
      "40 - OK\n",
      "41 - OK\n",
      "42 - OK\n",
      "43 - OK\n",
      "44 - OK\n",
      "45 - OK\n",
      "46 - OK\n",
      "47 - OK\n",
      "48 - OK\n",
      "49 - OK\n",
      "50 - OK\n",
      "51 - OK\n",
      "52 - OK\n",
      "53 - OK\n",
      "54 - OK\n",
      "55 - OK\n",
      "56 - OK\n",
      "57 - OK\n",
      "58 - OK\n",
      "59 - OK\n",
      "60 - OK\n",
      "61 - OK\n",
      "62 - OK\n",
      "63 - OK\n",
      "64 - OK\n",
      "65 - OK\n",
      "66 - OK\n",
      "67 - OK\n",
      "68 - OK\n",
      "69 - OK\n",
      "70 - OK\n",
      "71 - OK\n",
      "72 - OK\n",
      "73 - OK\n",
      "74 - OK\n",
      "75 - OK\n",
      "76 - OK\n",
      "77 - OK\n",
      "78 - OK\n",
      "79 - OK\n",
      "80 - OK\n",
      "81 - OK\n",
      "82 - OK\n",
      "83 - OK\n",
      "84 - OK\n",
      "85 - OK\n",
      "86 - OK\n",
      "87 - OK\n",
      "88 - OK\n",
      "89 - OK\n",
      "90 - OK\n",
      "91 - OK\n",
      "92 - OK\n",
      "93 - OK\n",
      "94 - OK\n",
      "95 - OK\n",
      "96 - OK\n",
      "97 - OK\n",
      "98 - OK\n",
      "99 - OK\n",
      "100 - OK\n",
      "101 - OK\n",
      "102 - OK\n",
      "103 - OK\n",
      "104 - OK\n",
      "105 - OK\n",
      "106 - OK\n",
      "107 - OK\n",
      "108 - OK\n",
      "109 - OK\n",
      "110 - OK\n",
      "111 - OK\n",
      "112 - OK\n",
      "113 - OK\n",
      "114 - OK\n",
      "115 - OK\n",
      "116 - OK\n",
      "117 - OK\n",
      "118 - OK\n",
      "119 - OK\n",
      "120 - OK\n",
      "121 - OK\n",
      "122 - OK\n",
      "123 - OK\n",
      "124 - OK\n",
      "125 - OK\n",
      "126 - OK\n",
      "127 - OK\n",
      "128 - OK\n",
      "129 - OK\n",
      "130 - OK\n",
      "131 - OK\n",
      "132 - OK\n",
      "133 - OK\n",
      "134 - OK\n",
      "135 - OK\n",
      "136 - OK\n",
      "137 - OK\n",
      "138 - OK\n",
      "139 - OK\n",
      "140 - OK\n",
      "141 - OK\n",
      "142 - OK\n",
      "143 - OK\n",
      "144 - OK\n",
      "145 - OK\n",
      "146 - OK\n",
      "147 - OK\n",
      "148 - OK\n",
      "149 - OK\n",
      "150 - OK\n",
      "151 - OK\n",
      "152 - OK\n",
      "153 - OK\n",
      "154 - OK\n",
      "155 - OK\n",
      "156 - OK\n",
      "157 - OK\n",
      "158 - OK\n",
      "159 - OK\n",
      "160 - OK\n",
      "161 - OK\n",
      "162 - OK\n",
      "163 - OK\n",
      "164 - OK\n",
      "165 - OK\n",
      "166 - OK\n",
      "167 - OK\n",
      "168 - OK\n",
      "169 - OK\n",
      "170 - OK\n",
      "171 - OK\n",
      "172 - OK\n",
      "173 - OK\n",
      "174 - OK\n",
      "175 - OK\n",
      "176 - OK\n",
      "177 - OK\n",
      "178 - OK\n",
      "179 - OK\n",
      "180 - OK\n",
      "181 - OK\n",
      "182 - OK\n",
      "183 - OK\n",
      "184 - OK\n",
      "185 - OK\n",
      "186 - OK\n",
      "187 - OK\n",
      "188 - OK\n",
      "189 - OK\n",
      "190 - OK\n",
      "191 - OK\n",
      "192 - OK\n",
      "193 - OK\n",
      "194 - OK\n",
      "195 - OK\n",
      "196 - OK\n",
      "197 - OK\n",
      "198 - OK\n",
      "199 - OK\n"
     ]
    }
   ],
   "source": [
    "test.test_1()"
   ]
  },
  {
   "cell_type": "code",
   "execution_count": 17,
   "metadata": {},
   "outputs": [
    {
     "ename": "KeyboardInterrupt",
     "evalue": "",
     "output_type": "error",
     "traceback": [
      "\u001b[0;31m-----------------------------------------------------------------------\u001b[0m",
      "\u001b[0;31mKeyboardInterrupt\u001b[0m                     Traceback (most recent call last)",
      "\u001b[0;32m<ipython-input-17-90866ac9517d>\u001b[0m in \u001b[0;36m<module>\u001b[0;34m()\u001b[0m\n\u001b[0;32m----> 1\u001b[0;31m \u001b[0mtest\u001b[0m\u001b[0;34m.\u001b[0m\u001b[0mtest_2\u001b[0m\u001b[0;34m(\u001b[0m\u001b[0;34m)\u001b[0m\u001b[0;34m\u001b[0m\u001b[0m\n\u001b[0m",
      "\u001b[0;32m<ipython-input-14-a03655691c36>\u001b[0m in \u001b[0;36mtest_2\u001b[0;34m(self)\u001b[0m\n\u001b[1;32m     25\u001b[0m     \u001b[0;32mdef\u001b[0m \u001b[0mtest_2\u001b[0m\u001b[0;34m(\u001b[0m\u001b[0mself\u001b[0m\u001b[0;34m)\u001b[0m\u001b[0;34m:\u001b[0m\u001b[0;34m\u001b[0m\u001b[0m\n\u001b[1;32m     26\u001b[0m         \u001b[0;32mfor\u001b[0m \u001b[0ml\u001b[0m \u001b[0;32min\u001b[0m \u001b[0mself\u001b[0m\u001b[0;34m.\u001b[0m\u001b[0mlist_of_lists\u001b[0m\u001b[0;34m:\u001b[0m\u001b[0;34m\u001b[0m\u001b[0m\n\u001b[0;32m---> 27\u001b[0;31m             \u001b[0msorted_1\u001b[0m \u001b[0;34m=\u001b[0m \u001b[0mmerge_sort_2\u001b[0m\u001b[0;34m(\u001b[0m\u001b[0ml\u001b[0m\u001b[0;34m)\u001b[0m\u001b[0;34m\u001b[0m\u001b[0m\n\u001b[0m\u001b[1;32m     28\u001b[0m             \u001b[0ml\u001b[0m\u001b[0;34m.\u001b[0m\u001b[0msort\u001b[0m\u001b[0;34m(\u001b[0m\u001b[0;34m)\u001b[0m\u001b[0;34m\u001b[0m\u001b[0m\n\u001b[1;32m     29\u001b[0m             \u001b[0;32mif\u001b[0m \u001b[0msorted_1\u001b[0m \u001b[0;34m!=\u001b[0m \u001b[0ml\u001b[0m\u001b[0;34m:\u001b[0m\u001b[0;34m\u001b[0m\u001b[0m\n",
      "\u001b[0;32m<ipython-input-8-7f01d84dfa1d>\u001b[0m in \u001b[0;36mmerge_sort_2\u001b[0;34m(tab)\u001b[0m\n\u001b[1;32m      6\u001b[0m             \u001b[0mright\u001b[0m \u001b[0;34m=\u001b[0m \u001b[0mtab\u001b[0m\u001b[0;34m[\u001b[0m\u001b[0mi\u001b[0m\u001b[0;34m+\u001b[0m\u001b[0mint\u001b[0m\u001b[0;34m(\u001b[0m\u001b[0mj\u001b[0m\u001b[0;34m/\u001b[0m\u001b[0;36m2\u001b[0m\u001b[0;34m)\u001b[0m \u001b[0;34m:\u001b[0m \u001b[0mj\u001b[0m\u001b[0;34m-\u001b[0m\u001b[0mi\u001b[0m\u001b[0;34m]\u001b[0m\u001b[0;34m\u001b[0m\u001b[0m\n\u001b[1;32m      7\u001b[0m             \u001b[0ml\u001b[0m \u001b[0;34m=\u001b[0m \u001b[0mm\u001b[0m \u001b[0;34m=\u001b[0m \u001b[0;36m0\u001b[0m\u001b[0;34m\u001b[0m\u001b[0m\n\u001b[0;32m----> 8\u001b[0;31m             \u001b[0;32mwhile\u001b[0m \u001b[0ml\u001b[0m \u001b[0;34m<\u001b[0m \u001b[0mlen\u001b[0m\u001b[0;34m(\u001b[0m\u001b[0mleft\u001b[0m\u001b[0;34m)\u001b[0m \u001b[0;32mand\u001b[0m \u001b[0mm\u001b[0m \u001b[0;34m<\u001b[0m \u001b[0mlen\u001b[0m\u001b[0;34m(\u001b[0m\u001b[0mright\u001b[0m\u001b[0;34m)\u001b[0m\u001b[0;34m:\u001b[0m\u001b[0;34m\u001b[0m\u001b[0m\n\u001b[0m\u001b[1;32m      9\u001b[0m                 \u001b[0;32mif\u001b[0m \u001b[0mleft\u001b[0m\u001b[0;34m[\u001b[0m\u001b[0ml\u001b[0m\u001b[0;34m]\u001b[0m \u001b[0;34m<\u001b[0m \u001b[0mright\u001b[0m\u001b[0;34m[\u001b[0m\u001b[0mm\u001b[0m\u001b[0;34m]\u001b[0m\u001b[0;34m:\u001b[0m\u001b[0;34m\u001b[0m\u001b[0m\n\u001b[1;32m     10\u001b[0m                     \u001b[0mm\u001b[0m \u001b[0;34m+=\u001b[0m \u001b[0;36m1\u001b[0m\u001b[0;34m\u001b[0m\u001b[0m\n",
      "\u001b[0;31mKeyboardInterrupt\u001b[0m: "
     ]
    }
   ],
   "source": [
    "test.test_2()"
   ]
  },
  {
   "cell_type": "code",
   "execution_count": null,
   "metadata": {
    "collapsed": true
   },
   "outputs": [],
   "source": []
  }
 ],
 "metadata": {
  "kernelspec": {
   "display_name": "Python [default]",
   "language": "python",
   "name": "python3"
  },
  "language_info": {
   "codemirror_mode": {
    "name": "ipython",
    "version": 3
   },
   "file_extension": ".py",
   "mimetype": "text/x-python",
   "name": "python",
   "nbconvert_exporter": "python",
   "pygments_lexer": "ipython3",
   "version": "3.5.2"
  }
 },
 "nbformat": 4,
 "nbformat_minor": 2
}
