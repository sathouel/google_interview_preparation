{
 "cells": [
  {
   "cell_type": "markdown",
   "metadata": {},
   "source": [
    "# Binary search tree"
   ]
  },
  {
   "cell_type": "code",
   "execution_count": 5,
   "metadata": {
    "collapsed": true
   },
   "outputs": [],
   "source": [
    "class Node:\n",
    "    def __init__(self, data, sonL=None, sonR=None):\n",
    "        self.data = data\n",
    "        self.sonL = sonL\n",
    "        self.sonR = sonR\n",
    "    \n",
    "    def __str__(self):\n",
    "        return str(self.data)\n",
    "    \n",
    "    def __repr__(self):\n",
    "        return str(self.data)\n",
    "    "
   ]
  },
  {
   "cell_type": "code",
   "execution_count": 7,
   "metadata": {},
   "outputs": [
    {
     "ename": "SyntaxError",
     "evalue": "unexpected EOF while parsing (<ipython-input-7-0b74a89c54f4>, line 40)",
     "output_type": "error",
     "traceback": [
      "\u001b[0;36m  File \u001b[0;32m\"<ipython-input-7-0b74a89c54f4>\"\u001b[0;36m, line \u001b[0;32m40\u001b[0m\n\u001b[0;31m    def delete(self, data):\u001b[0m\n\u001b[0m                           ^\u001b[0m\n\u001b[0;31mSyntaxError\u001b[0m\u001b[0;31m:\u001b[0m unexpected EOF while parsing\n"
     ]
    }
   ],
   "source": [
    "class TreeBase:\n",
    "    \n",
    "    def insert(self, val):\n",
    "        raise ValueError(\"insert not implemented\")\n",
    "        \n",
    "    def delete(self, val):\n",
    "        raise ValueError(\"delete not implemented\")\n",
    "        \n",
    "        \n",
    "class BinaryTree(TreeBase):\n",
    "    \n",
    "    def __init__(self, root=None):\n",
    "        if self is None:\n",
    "            self.root = None\n",
    "        else:\n",
    "            self.root = Node(root)\n",
    "    \n",
    "    def insert(self, data):\n",
    "        self.insert_aux(self.root, data)\n",
    "    \n",
    "    def insert_aux(self, curr_node, data):\n",
    "        if curr_node.data == data:\n",
    "            return\n",
    "        \n",
    "        if data > curr_node:\n",
    "            if curr_node.sonR is None:\n",
    "                curr_node.sonR = Node(data)\n",
    "                return\n",
    "            else:\n",
    "                self.insert_aux(curr_node.sonR, data)\n",
    "                return\n",
    "        else:\n",
    "            if curr_node.sonL is None:\n",
    "                curr_node.sonL = Node(data)\n",
    "                return\n",
    "            else:\n",
    "                self.insert_aux(curr_node.sonL, data)\n",
    "                return\n",
    "        \n",
    "    def delete(self, data):\n",
    "        "
   ]
  },
  {
   "cell_type": "code",
   "execution_count": null,
   "metadata": {
    "collapsed": true
   },
   "outputs": [],
   "source": []
  }
 ],
 "metadata": {
  "kernelspec": {
   "display_name": "Python [conda env:python3]",
   "language": "python",
   "name": "conda-env-python3-py"
  },
  "language_info": {
   "codemirror_mode": {
    "name": "ipython",
    "version": 3
   },
   "file_extension": ".py",
   "mimetype": "text/x-python",
   "name": "python",
   "nbconvert_exporter": "python",
   "pygments_lexer": "ipython3",
   "version": "3.6.2"
  }
 },
 "nbformat": 4,
 "nbformat_minor": 2
}
