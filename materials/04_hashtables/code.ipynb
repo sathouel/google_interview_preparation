{
 "cells": [
  {
   "cell_type": "markdown",
   "metadata": {},
   "source": [
    "# Hash Tables"
   ]
  },
  {
   "cell_type": "code",
   "execution_count": 1,
   "metadata": {
    "collapsed": true
   },
   "outputs": [],
   "source": [
    "class HashTableBase:\n",
    "    \n",
    "    def insert(self, val):\n",
    "        raise Exception(\"insert not implemented\")\n",
    "    \n",
    "    def contains(self, val):\n",
    "        raise Exception(\"contains not implemented\")\n",
    "        \n",
    "    def delete(self, val):\n",
    "        raise Exception(\"delete not implemented\")\n",
    "    \n",
    "    def __hash_fun__(self, val):\n",
    "        raise Exception(\"hash fun not implemented\")\n",
    "        "
   ]
  },
  {
   "cell_type": "markdown",
   "metadata": {},
   "source": [
    "# Chain Hashing"
   ]
  },
  {
   "cell_type": "code",
   "execution_count": 34,
   "metadata": {},
   "outputs": [],
   "source": [
    "class HashTableChain(HashTableBase):\n",
    "    \n",
    "    def __init__(self, size=20):\n",
    "        self.size = size\n",
    "        self.table = [[] for _ in range(self.size)]\n",
    "    \n",
    "    def contains(self, val):\n",
    "        return val in self.table[self.__hash_fun__(val)]\n",
    "    \n",
    "    def delete(self, val):\n",
    "        if self.contains(val):\n",
    "            self.table[self.__hash_fun__(val)].remove(val)\n",
    "    \n",
    "    def insert(self, val):\n",
    "        if self.contains(val):\n",
    "            return\n",
    "        self.table[self.__hash_fun__(val)].append(val)\n",
    "    \n",
    "    def __hash_fun__(self, val):\n",
    "        return val % self.size\n",
    "    \n",
    "    def __repr__(self):\n",
    "        for l in self.table:\n",
    "            print(l)\n",
    "        "
   ]
  },
  {
   "cell_type": "code",
   "execution_count": 35,
   "metadata": {},
   "outputs": [],
   "source": [
    "from random import randint\n",
    "\n",
    "h = HashTableChain()\n",
    "n = 200\n",
    "\n",
    "for _ in range(n):\n",
    "    h.insert(randint(1, n))\n",
    "    \n"
   ]
  },
  {
   "cell_type": "code",
   "execution_count": 36,
   "metadata": {},
   "outputs": [
    {
     "data": {
      "text/plain": [
       "[[100, 80, 140, 20, 180, 160, 120, 200],\n",
       " [141, 121, 181, 61, 101, 21],\n",
       " [42, 102, 62, 122, 162, 22],\n",
       " [63, 3, 143, 23, 123, 183, 43],\n",
       " [104, 84, 4, 164, 144, 24, 44],\n",
       " [105, 125, 185, 65],\n",
       " [6, 146, 86, 166, 126, 186],\n",
       " [167, 107, 27, 187, 127, 7],\n",
       " [8, 48, 108, 68, 88, 128, 188, 148, 168],\n",
       " [189, 9, 149, 169, 49, 129, 89],\n",
       " [30, 10, 170, 50, 130],\n",
       " [111, 191, 51, 31, 131, 151, 11],\n",
       " [12, 32, 132, 152, 112],\n",
       " [93],\n",
       " [74, 14, 94],\n",
       " [175, 75, 115, 195, 135, 55],\n",
       " [76, 16, 116, 176, 96, 196, 56],\n",
       " [57, 117, 177, 137, 77, 197, 17],\n",
       " [158, 178, 98, 138, 18, 198, 58],\n",
       " [199, 159, 139, 119, 79, 99, 179, 59]]"
      ]
     },
     "execution_count": 36,
     "metadata": {},
     "output_type": "execute_result"
    }
   ],
   "source": [
    "t = h.table\n",
    "t"
   ]
  },
  {
   "cell_type": "markdown",
   "metadata": {},
   "source": [
    "# Double Hashing"
   ]
  },
  {
   "cell_type": "code",
   "execution_count": null,
   "metadata": {
    "collapsed": true
   },
   "outputs": [],
   "source": [
    "class HashTableDouble(HashTableBase):\n",
    "    \n",
    "    def __init__(self, size=20):\n",
    "        self.size = size\n",
    "        self.table = [None] * self.size\n",
    "    \n",
    "    def insert(self, val):\n",
    "        if self.contains(val):\n",
    "            return\n",
    "        "
   ]
  }
 ],
 "metadata": {
  "kernelspec": {
   "display_name": "Python [conda env:python3]",
   "language": "python",
   "name": "conda-env-python3-py"
  },
  "language_info": {
   "codemirror_mode": {
    "name": "ipython",
    "version": 3
   },
   "file_extension": ".py",
   "mimetype": "text/x-python",
   "name": "python",
   "nbconvert_exporter": "python",
   "pygments_lexer": "ipython3",
   "version": "3.6.2"
  }
 },
 "nbformat": 4,
 "nbformat_minor": 2
}
