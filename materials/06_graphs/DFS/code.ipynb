{
 "cells": [
  {
   "cell_type": "code",
   "execution_count": 13,
   "metadata": {
    "collapsed": true
   },
   "outputs": [],
   "source": [
    "graph = {5:[2, 0],\n",
    "         4:[0, 1],\n",
    "         3:[1],\n",
    "         2:[3],\n",
    "         1:[],\n",
    "         0:[],\n",
    "        }\n",
    "\n",
    "nodes = [0, 1, 2, 3, 4, 5]"
   ]
  },
  {
   "cell_type": "code",
   "execution_count": null,
   "metadata": {
    "collapsed": true
   },
   "outputs": [],
   "source": []
  },
  {
   "cell_type": "code",
   "execution_count": 23,
   "metadata": {
    "collapsed": true
   },
   "outputs": [],
   "source": [
    "def DFS(curr_node, graph, visited):\n",
    "    if visited.get(curr_node) is not None:\n",
    "        return\n",
    "    \n",
    "    visited[curr_node] = True\n",
    "    for n in graph[curr_node]:\n",
    "        DFS(n, graph, visited)\n",
    "        \n",
    "    print(\"visiting \", curr_node)\n",
    "    \n",
    "def DFS_wrapper(graph, visited, root=0):\n",
    "    DFS(root, graph, visited)\n",
    "    for n in graph.keys():\n",
    "        DFS(n, graph, visited)"
   ]
  },
  {
   "cell_type": "code",
   "execution_count": 24,
   "metadata": {},
   "outputs": [
    {
     "name": "stdout",
     "output_type": "stream",
     "text": [
      "visiting  1\n",
      "visiting  3\n",
      "visiting  2\n",
      "visiting  0\n",
      "visiting  5\n"
     ]
    }
   ],
   "source": [
    "v = {}\n",
    "DFS(5, graph, v)"
   ]
  },
  {
   "cell_type": "code",
   "execution_count": 25,
   "metadata": {},
   "outputs": [
    {
     "name": "stdout",
     "output_type": "stream",
     "text": [
      "visiting  0\n",
      "visiting  1\n",
      "visiting  3\n",
      "visiting  2\n",
      "visiting  5\n",
      "visiting  4\n"
     ]
    }
   ],
   "source": [
    "v = {}\n",
    "DFS_wrapper(graph, v)"
   ]
  },
  {
   "cell_type": "code",
   "execution_count": null,
   "metadata": {
    "collapsed": true
   },
   "outputs": [],
   "source": []
  },
  {
   "cell_type": "code",
   "execution_count": 64,
   "metadata": {
    "collapsed": true
   },
   "outputs": [],
   "source": [
    "def DFS(curr_node, graph, visited, closed, counter):\n",
    "    if visited.get(curr_node) is not None and visited[curr_node] < counter:\n",
    "        return counter\n",
    "    \n",
    "    visited[curr_node] = counter\n",
    "    new_counter = counter + 1\n",
    "    for n in graph[curr_node]:\n",
    "        new_counter = DFS(n, graph, visited, closed, new_counter)\n",
    "        \n",
    "    closed[curr_node] = new_counter\n",
    "    print(\"visiting \", curr_node)\n",
    "    return new_counter+1\n",
    "    \n",
    "def DFS_wrapper(graph, root=0):\n",
    "    visited, closed, counter = {}, {}, 0\n",
    "    counter = DFS(root, graph, visited, closed, counter)\n",
    "    for n in graph.keys():\n",
    "        counter = DFS(n, graph, visited, closed, counter)\n",
    "        \n",
    "    return visited, closed, counter"
   ]
  },
  {
   "cell_type": "code",
   "execution_count": 65,
   "metadata": {},
   "outputs": [
    {
     "name": "stdout",
     "output_type": "stream",
     "text": [
      "visiting  1\n",
      "visiting  3\n",
      "visiting  2\n",
      "visiting  0\n",
      "visiting  5\n",
      "visiting  4\n"
     ]
    }
   ],
   "source": [
    "v, c, counter = DFS_wrapper(graph, 5)"
   ]
  },
  {
   "cell_type": "code",
   "execution_count": 66,
   "metadata": {},
   "outputs": [],
   "source": [
    "sol = [[k, v] for k, v in c.items()]\n",
    "sol.sort(key=lambda x: -x[1])\n"
   ]
  },
  {
   "cell_type": "code",
   "execution_count": 67,
   "metadata": {},
   "outputs": [
    {
     "data": {
      "text/plain": [
       "{0: 7, 1: 3, 2: 1, 3: 2, 4: 10, 5: 0}"
      ]
     },
     "execution_count": 67,
     "metadata": {},
     "output_type": "execute_result"
    }
   ],
   "source": [
    "v"
   ]
  },
  {
   "cell_type": "code",
   "execution_count": 68,
   "metadata": {},
   "outputs": [
    {
     "data": {
      "text/plain": [
       "{0: 8, 1: 4, 2: 6, 3: 5, 4: 11, 5: 9}"
      ]
     },
     "execution_count": 68,
     "metadata": {},
     "output_type": "execute_result"
    }
   ],
   "source": [
    "c"
   ]
  },
  {
   "cell_type": "code",
   "execution_count": null,
   "metadata": {
    "collapsed": true
   },
   "outputs": [],
   "source": []
  }
 ],
 "metadata": {
  "kernelspec": {
   "display_name": "Python [conda env:python3]",
   "language": "python",
   "name": "conda-env-python3-py"
  },
  "language_info": {
   "codemirror_mode": {
    "name": "ipython",
    "version": 3
   },
   "file_extension": ".py",
   "mimetype": "text/x-python",
   "name": "python",
   "nbconvert_exporter": "python",
   "pygments_lexer": "ipython3",
   "version": "3.6.2"
  }
 },
 "nbformat": 4,
 "nbformat_minor": 2
}
