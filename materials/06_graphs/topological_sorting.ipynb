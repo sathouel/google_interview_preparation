{
 "cells": [
  {
   "cell_type": "markdown",
   "metadata": {},
   "source": [
    "# Article : https://www.geeksforgeeks.org/topological-sorting/"
   ]
  },
  {
   "cell_type": "code",
   "execution_count": 11,
   "metadata": {},
   "outputs": [],
   "source": [
    "g1 = {\n",
    "      4:[0, 1],\n",
    "    5:[0, 2],\n",
    "      3:[1],\n",
    "      2:[3],\n",
    "      1:[],\n",
    "      0:[]}"
   ]
  },
  {
   "cell_type": "code",
   "execution_count": 12,
   "metadata": {
    "collapsed": true
   },
   "outputs": [],
   "source": [
    "def topo(k, visited, stack, graph):\n",
    "    visited[k] = True\n",
    "    for i in graph[k]:\n",
    "        if visited.get(i) is None:\n",
    "            topo(i, visited, stack, graph)\n",
    "            \n",
    "    stack.insert(0, k)"
   ]
  },
  {
   "cell_type": "code",
   "execution_count": 13,
   "metadata": {},
   "outputs": [],
   "source": [
    "\n",
    "def topological_sorting(graph):\n",
    "    visited = {}\n",
    "    stack = []\n",
    "    for k in graph.keys():\n",
    "        if visited.get(k) is None:\n",
    "            topo(k, visited, stack, graph)\n",
    "    \n",
    "    print(stack)"
   ]
  },
  {
   "cell_type": "code",
   "execution_count": 14,
   "metadata": {},
   "outputs": [
    {
     "name": "stdout",
     "output_type": "stream",
     "text": [
      "[5, 2, 3, 4, 1, 0]\n"
     ]
    }
   ],
   "source": [
    "topological_sorting(g1)"
   ]
  },
  {
   "cell_type": "code",
   "execution_count": null,
   "metadata": {
    "collapsed": true
   },
   "outputs": [],
   "source": []
  }
 ],
 "metadata": {
  "kernelspec": {
   "display_name": "Python [conda env:python3]",
   "language": "python",
   "name": "conda-env-python3-py"
  },
  "language_info": {
   "codemirror_mode": {
    "name": "ipython",
    "version": 3
   },
   "file_extension": ".py",
   "mimetype": "text/x-python",
   "name": "python",
   "nbconvert_exporter": "python",
   "pygments_lexer": "ipython3",
   "version": "3.6.2"
  }
 },
 "nbformat": 4,
 "nbformat_minor": 2
}
