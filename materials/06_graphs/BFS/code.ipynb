{
 "cells": [
  {
   "cell_type": "code",
   "execution_count": 14,
   "metadata": {
    "collapsed": true
   },
   "outputs": [],
   "source": [
    "graph = {0: [1, 2, 3, 4],\n",
    "         1: [5, 6],\n",
    "         2: [],\n",
    "         3: [],\n",
    "         4: [6],\n",
    "         5: [1, 6],\n",
    "         6: [1, 5],\n",
    "         7: []\n",
    "        }"
   ]
  },
  {
   "cell_type": "code",
   "execution_count": 15,
   "metadata": {
    "collapsed": true
   },
   "outputs": [],
   "source": [
    "queue = []\n",
    "d = [None] * len(graph)"
   ]
  },
  {
   "cell_type": "code",
   "execution_count": 16,
   "metadata": {
    "collapsed": true
   },
   "outputs": [],
   "source": [
    "start = 0\n",
    "d[0] = 0\n",
    "\n",
    "\n",
    "for nei in graph[start]:\n",
    "    d[nei] = d[start] + 1\n",
    "    queue.append(nei)\n",
    "\n",
    "while len(queue) != 0:\n",
    "    next_node = queue.pop(0)\n",
    "    for nei in graph[next_node]:\n",
    "        if d[nei] is not None:\n",
    "            continue\n",
    "        d[nei] = d[next_node] + 1\n",
    "        queue.append(nei)\n",
    "        "
   ]
  },
  {
   "cell_type": "code",
   "execution_count": 17,
   "metadata": {},
   "outputs": [
    {
     "data": {
      "text/plain": [
       "[0, 1, 1, 1, 1, 2, 2, None]"
      ]
     },
     "execution_count": 17,
     "metadata": {},
     "output_type": "execute_result"
    }
   ],
   "source": [
    "d"
   ]
  },
  {
   "cell_type": "code",
   "execution_count": null,
   "metadata": {
    "collapsed": true
   },
   "outputs": [],
   "source": []
  }
 ],
 "metadata": {
  "kernelspec": {
   "display_name": "Python [conda env:python3]",
   "language": "python",
   "name": "conda-env-python3-py"
  },
  "language_info": {
   "codemirror_mode": {
    "name": "ipython",
    "version": 3
   },
   "file_extension": ".py",
   "mimetype": "text/x-python",
   "name": "python",
   "nbconvert_exporter": "python",
   "pygments_lexer": "ipython3",
   "version": "3.6.2"
  }
 },
 "nbformat": 4,
 "nbformat_minor": 2
}
