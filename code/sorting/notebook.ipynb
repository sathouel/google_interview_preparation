{
 "cells": [
  {
   "cell_type": "code",
   "execution_count": 50,
   "metadata": {},
   "outputs": [],
   "source": [
    "tab = [38, 27, 43, 3, 9, 10, 82]"
   ]
  },
  {
   "cell_type": "code",
   "execution_count": 51,
   "metadata": {},
   "outputs": [],
   "source": [
    "def sort(tab):\n",
    "    start, end = 0, len(tab) - 1\n",
    "    new_tab = tab.copy()\n",
    "    sort_aux(new_tab, start, end)\n",
    "    return new_tab\n",
    "\n",
    "def sort_aux(tab, start, end):\n",
    "    if start >= end:\n",
    "        return \n",
    "    pivot_index = end\n",
    "    new_pivot_index = partition(tab, start, end, pivot_index)\n",
    "    sort_aux(tab, start, new_pivot_index - 1)\n",
    "    sort_aux(tab, new_pivot_index + 1, end)\n",
    "    \n",
    "    \n",
    "def partition_space(tab, start, end, pivot_index):\n",
    "    lower, higher = [], []\n",
    "    pivot = tab[pivot_index]\n",
    "    for rel_index in range(end - start + 1):\n",
    "        abs_index = start + rel_index\n",
    "        val = tab[abs_index]\n",
    "        if abs_index == pivot_index:\n",
    "            continue\n",
    "        elif val <= pivot:\n",
    "            lower.append(val)\n",
    "        else:\n",
    "            higher.append(val)\n",
    "    tab[start: end + 1] = lower + [pivot] + higher\n",
    "    return start + len(lower)\n",
    "\n",
    "\n",
    "def partition(tab, start, end, pivot_index):\n",
    "    tab[pivot_index], tab[end] = tab[end], tab[pivot_index]\n",
    "    pivot = tab[pivot_index]\n",
    "    start_it, end_it = start, end - 1 \n",
    "    while end_it != start_it:\n",
    "        val = tab[start_it]\n",
    "        if val <= pivot:\n",
    "            start_it += 1\n",
    "            continue\n",
    "        else:\n",
    "            tab[start_it], tab[end_it] = tab[end_it], tab[start_it]\n",
    "            end_it -= 1\n",
    "            continue\n",
    "    last_val = tab[end_it]\n",
    "    if last_val <= pivot:\n",
    "        tab[end] = tab[end_it + 1]\n",
    "        tab[end_it + 1] = pivot\n",
    "        return end_it + 1\n",
    "    else:\n",
    "        tab[end] = tab[end_it]\n",
    "        tab[end_it] = pivot\n",
    "        return end_it\n",
    "    "
   ]
  },
  {
   "cell_type": "code",
   "execution_count": 52,
   "metadata": {},
   "outputs": [
    {
     "data": {
      "text/plain": [
       "[3, 9, 10, 27, 38, 43, 82]"
      ]
     },
     "execution_count": 52,
     "metadata": {},
     "output_type": "execute_result"
    }
   ],
   "source": [
    "sort(tab)"
   ]
  },
  {
   "cell_type": "code",
   "execution_count": 53,
   "metadata": {},
   "outputs": [
    {
     "data": {
      "text/plain": [
       "[38, 27, 43, 3, 9, 10, 82]"
      ]
     },
     "execution_count": 53,
     "metadata": {},
     "output_type": "execute_result"
    }
   ],
   "source": [
    "tab"
   ]
  },
  {
   "cell_type": "code",
   "execution_count": null,
   "metadata": {},
   "outputs": [],
   "source": []
  }
 ],
 "metadata": {
  "kernelspec": {
   "display_name": "Python 3",
   "language": "python",
   "name": "python3"
  },
  "language_info": {
   "codemirror_mode": {
    "name": "ipython",
    "version": 3
   },
   "file_extension": ".py",
   "mimetype": "text/x-python",
   "name": "python",
   "nbconvert_exporter": "python",
   "pygments_lexer": "ipython3",
   "version": "3.6.5"
  }
 },
 "nbformat": 4,
 "nbformat_minor": 2
}
