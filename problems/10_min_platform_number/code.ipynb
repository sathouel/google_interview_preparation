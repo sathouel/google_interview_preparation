{
 "cells": [
  {
   "cell_type": "code",
   "execution_count": 26,
   "metadata": {
    "collapsed": true
   },
   "outputs": [],
   "source": [
    "start = [900, 940, 950, 1100, 1500, 1800]\n",
    "end = [910, 1200, 1120, 1130, 1900, 2000]\n"
   ]
  },
  {
   "cell_type": "code",
   "execution_count": 41,
   "metadata": {},
   "outputs": [],
   "source": [
    "def find(start, end):\n",
    "    grps = [list() for _ in range(len(start))]\n",
    "    for i, s, e in zip(range(len(start)), start, end):\n",
    "        if i == len(start) - 1:\n",
    "            break\n",
    "            \n",
    "        for j, s_tmp, e_tmp in zip(range(1, len(start[i:])),start[i+1:], end[i+1:]):\n",
    "            if (s < s_tmp and e > s_tmp) or (s < e_tmp and e > e_tmp):\n",
    "                grps[i].append(j + i)\n",
    "                grps[j + i].append(i)\n",
    "        \n",
    "    max_len = len(grps[0])\n",
    "    for grp in grps:\n",
    "        max_len = len(grp) if len(grp) > max_len else max_len\n",
    "        \n",
    "    return max_len + 1"
   ]
  },
  {
   "cell_type": "code",
   "execution_count": 42,
   "metadata": {},
   "outputs": [],
   "source": [
    "a = find(start, end)"
   ]
  },
  {
   "cell_type": "code",
   "execution_count": 43,
   "metadata": {},
   "outputs": [
    {
     "data": {
      "text/plain": [
       "3"
      ]
     },
     "execution_count": 43,
     "metadata": {},
     "output_type": "execute_result"
    }
   ],
   "source": [
    "a"
   ]
  },
  {
   "cell_type": "code",
   "execution_count": null,
   "metadata": {
    "collapsed": true
   },
   "outputs": [],
   "source": []
  }
 ],
 "metadata": {
  "kernelspec": {
   "display_name": "Python [conda env:python3]",
   "language": "python",
   "name": "conda-env-python3-py"
  },
  "language_info": {
   "codemirror_mode": {
    "name": "ipython",
    "version": 3
   },
   "file_extension": ".py",
   "mimetype": "text/x-python",
   "name": "python",
   "nbconvert_exporter": "python",
   "pygments_lexer": "ipython3",
   "version": "3.6.2"
  }
 },
 "nbformat": 4,
 "nbformat_minor": 2
}
