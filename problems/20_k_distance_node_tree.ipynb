{
 "cells": [
  {
   "cell_type": "markdown",
   "metadata": {},
   "source": [
    "# Problem : https://www.geeksforgeeks.org/print-nodes-distance-k-leaf-node/"
   ]
  },
  {
   "cell_type": "code",
   "execution_count": 1,
   "metadata": {
    "collapsed": true
   },
   "outputs": [],
   "source": [
    "tree = {1:[2, 3],\n",
    "        2:[4, 5],\n",
    "        4:[None, None],\n",
    "        5:[None, None],\n",
    "        3:[6, 7],\n",
    "        6:[None, 8],\n",
    "        8:[None, None],\n",
    "        7:[None, None],\n",
    "       }"
   ]
  },
  {
   "cell_type": "code",
   "execution_count": 12,
   "metadata": {},
   "outputs": [],
   "source": [
    "def postorder(tree, node, visited):\n",
    "    if node is None:\n",
    "        return\n",
    "    postorder(tree, tree[node][0], visited)\n",
    "    postorder(tree, tree[node][1], visited)\n",
    "    sonL, sonR = tree[node]\n",
    "    if sonL is None and sonR is None:\n",
    "        visited[node] = [0]\n",
    "    else:\n",
    "        visited[node] = []\n",
    "        if sonL is not None:\n",
    "            l = [x + 1 for x in visited[sonL]]\n",
    "            visited[node] += l\n",
    "        if sonR is not None:\n",
    "            r = [x + 1 for x in visited[sonR]]\n",
    "            visited[node] += r\n",
    "            \n",
    "    "
   ]
  },
  {
   "cell_type": "code",
   "execution_count": 17,
   "metadata": {},
   "outputs": [],
   "source": [
    "def find(tree, root, k):\n",
    "    visited = {}\n",
    "    postorder(tree, root, visited)\n",
    "    for key, v in visited.items():\n",
    "        if k in v:\n",
    "            print(key)\n",
    "            \n",
    "    return visited\n",
    "    "
   ]
  },
  {
   "cell_type": "code",
   "execution_count": 19,
   "metadata": {},
   "outputs": [
    {
     "name": "stdout",
     "output_type": "stream",
     "text": [
      "3\n",
      "1\n"
     ]
    },
    {
     "data": {
      "text/plain": [
       "{1: [2, 2, 3, 2], 2: [1, 1], 3: [2, 1], 4: [0], 5: [0], 6: [1], 7: [0], 8: [0]}"
      ]
     },
     "execution_count": 19,
     "metadata": {},
     "output_type": "execute_result"
    }
   ],
   "source": [
    "find(tree, 1, 2)"
   ]
  },
  {
   "cell_type": "code",
   "execution_count": null,
   "metadata": {
    "collapsed": true
   },
   "outputs": [],
   "source": []
  }
 ],
 "metadata": {
  "kernelspec": {
   "display_name": "Python [conda env:python3]",
   "language": "python",
   "name": "conda-env-python3-py"
  },
  "language_info": {
   "codemirror_mode": {
    "name": "ipython",
    "version": 3
   },
   "file_extension": ".py",
   "mimetype": "text/x-python",
   "name": "python",
   "nbconvert_exporter": "python",
   "pygments_lexer": "ipython3",
   "version": "3.6.2"
  }
 },
 "nbformat": 4,
 "nbformat_minor": 2
}
