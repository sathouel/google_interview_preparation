{
 "cells": [
  {
   "cell_type": "markdown",
   "metadata": {},
   "source": [
    "problem: https://www.geeksforgeeks.org/boggle-set-2-using-trie/"
   ]
  },
  {
   "cell_type": "code",
   "execution_count": 1,
   "metadata": {
    "collapsed": true
   },
   "outputs": [],
   "source": [
    "def add_wrd(trie, word):\n",
    "    curr = trie\n",
    "    for i, l in enumerate(word):\n",
    "        if curr.get(l) is None:\n",
    "            curr[l] = dict()\n",
    "        curr = curr[l]\n",
    "    curr['$'] = True"
   ]
  },
  {
   "cell_type": "code",
   "execution_count": 2,
   "metadata": {
    "collapsed": true
   },
   "outputs": [],
   "source": [
    "def create_trie(words):\n",
    "    trie = dict()\n",
    "    for w in words:\n",
    "        add_wrd(trie, w)\n",
    "        \n",
    "    return trie"
   ]
  },
  {
   "cell_type": "code",
   "execution_count": 3,
   "metadata": {
    "collapsed": true
   },
   "outputs": [],
   "source": [
    "def get_nei(grid, i, j):\n",
    "    nei = {}\n",
    "    if i > 0:\n",
    "        nei[(i-1, j)] = grid[i-1][j]\n",
    "        if j > 0:\n",
    "            nei[(i-1, j-1)] = grid[i-1][j-1]\n",
    "        if j < len(grid) - 1:\n",
    "            nei[(i-1, j+1)] = grid[i-1][j+1]\n",
    "            \n",
    "    if i < len(grid) - 1:\n",
    "        nei[(i+1, j)] = grid[i+1][j]\n",
    "        if j > 0:\n",
    "            nei[(i+1, j-1)] = grid[i+1][j-1]\n",
    "        if j < len(grid) - 1:\n",
    "            nei[(i+1, j+1)] = grid[i+1][j+1]\n",
    "            \n",
    "    if j > 0:\n",
    "        nei[(i, j-1)] = grid[i][j - 1]\n",
    "        \n",
    "    if j + 1 < len(grid):\n",
    "        nei[(i, j + 1)] = grid[i][j + 1]\n",
    "            \n",
    "    return nei"
   ]
  },
  {
   "cell_type": "code",
   "execution_count": 54,
   "metadata": {},
   "outputs": [],
   "source": [
    "def find_word(sols, grid, visited, trie, word, original_word, i, j):\n",
    "    if len(word) == 0:\n",
    "#         print(\"here\")\n",
    "        if trie.get('$') is not None:\n",
    "            sols.append(original_word)\n",
    "            return True\n",
    "        return False\n",
    "    \n",
    "    if visited.get((i, j)) is not None:\n",
    "        return\n",
    "    \n",
    "    if grid[i][j] != word[0]:\n",
    "        return\n",
    "    \n",
    "#     print('First char is : ', word[0])\n",
    "#     print('Curr Trie is : ', trie)\n",
    "    new_trie = trie[word[0]]\n",
    "    visited[(i, j)] = True\n",
    "    neis = get_nei(grid, i, j)\n",
    "    for pos, let in neis.items():\n",
    "#                 if visited[pos] is not None:\n",
    "#                     continue\n",
    "        found = find_word(sols, grid, visited, new_trie, word[1:], original_word, pos[0], pos[1])\n",
    "        if found:\n",
    "            return True\n",
    "    \n",
    "    visited.pop((i, j))\n",
    "    \n",
    "    return False\n",
    "                "
   ]
  },
  {
   "cell_type": "code",
   "execution_count": 60,
   "metadata": {
    "collapsed": true
   },
   "outputs": [],
   "source": [
    "def find_word_grid(trie, grid, word, sols):\n",
    "    visited = {}\n",
    "    for i in range(len(grid)):\n",
    "        for j in range(len(grid)):\n",
    "            found = find_word(sols, grid, visited, trie, word, word, i, j)\n",
    "            if found:\n",
    "#                 print(i, j)\n",
    "                return True\n",
    "    return False"
   ]
  },
  {
   "cell_type": "code",
   "execution_count": 61,
   "metadata": {
    "collapsed": true
   },
   "outputs": [],
   "source": [
    "def find_all_words(grid, words):\n",
    "    trie = create_trie(words)\n",
    "    sols = []\n",
    "    for wrd in words:\n",
    "        find_word_grid(trie, grid, wrd, sols)\n",
    "    return sols"
   ]
  },
  {
   "cell_type": "code",
   "execution_count": 65,
   "metadata": {
    "collapsed": true
   },
   "outputs": [],
   "source": [
    "# words = [\"GEEKS\", \"FOR\", \"QUIZ\", \"GO\"]\n",
    "# # words = [\"GEEKS\"]\n",
    "# grid = [['G','I','Z'],\n",
    "#         ['U','E','K'],\n",
    "#         ['Q','S','E']]\n",
    "\n",
    "words = [\"CAT\"]\n",
    "grid = [['C','A','P'],\n",
    "       ['A','N','D'],\n",
    "       ['T','I','E']]"
   ]
  },
  {
   "cell_type": "code",
   "execution_count": 66,
   "metadata": {
    "collapsed": true
   },
   "outputs": [],
   "source": [
    "# sols = []\n",
    "# visited = {}\n",
    "# trie = create_trie(words)\n",
    "# find_word(sols, grid, visited, trie, words[0], words[0], 0, 0)"
   ]
  },
  {
   "cell_type": "code",
   "execution_count": 67,
   "metadata": {},
   "outputs": [
    {
     "data": {
      "text/plain": [
       "['CAT']"
      ]
     },
     "execution_count": 67,
     "metadata": {},
     "output_type": "execute_result"
    }
   ],
   "source": [
    "find_all_words(grid, words)"
   ]
  },
  {
   "cell_type": "code",
   "execution_count": null,
   "metadata": {
    "collapsed": true
   },
   "outputs": [],
   "source": []
  }
 ],
 "metadata": {
  "kernelspec": {
   "display_name": "Python [conda env:python3]",
   "language": "python",
   "name": "conda-env-python3-py"
  },
  "language_info": {
   "codemirror_mode": {
    "name": "ipython",
    "version": 3
   },
   "file_extension": ".py",
   "mimetype": "text/x-python",
   "name": "python",
   "nbconvert_exporter": "python",
   "pygments_lexer": "ipython3",
   "version": "3.6.2"
  }
 },
 "nbformat": 4,
 "nbformat_minor": 2
}
