{
 "cells": [
  {
   "cell_type": "code",
   "execution_count": 1,
   "metadata": {
    "collapsed": true
   },
   "outputs": [],
   "source": [
    "l = [10, 22, 9, 33, 21, 50, 41, 60, 80]"
   ]
  },
  {
   "cell_type": "markdown",
   "metadata": {},
   "source": [
    "# First sol"
   ]
  },
  {
   "cell_type": "markdown",
   "metadata": {},
   "source": [
    "hight complexity (O(2^n)) ==> bad solution !"
   ]
  },
  {
   "cell_type": "code",
   "execution_count": 2,
   "metadata": {
    "collapsed": true
   },
   "outputs": [],
   "source": [
    "def find(arr, idx, l, max_l, last_number=None):\n",
    "    if idx == len(arr):\n",
    "        return max_l\n",
    "    if last_number != None and arr[idx] <= last_number:\n",
    "        return find(arr, idx + 1, l, max_l, last_number)\n",
    "    \n",
    "    # don't take\n",
    "    dt = find(arr, idx + 1, l, max_l, last_number)\n",
    "    # take current\n",
    "    l += 1\n",
    "    max_l = l if l > max_l else max_l\n",
    "    last_number = arr[idx]\n",
    "    \n",
    "    t = find(arr, idx + 1, l, max_l, last_number)\n",
    "    \n",
    "    return max(dt, t)\n",
    "        "
   ]
  },
  {
   "cell_type": "code",
   "execution_count": 3,
   "metadata": {},
   "outputs": [
    {
     "data": {
      "text/plain": [
       "6"
      ]
     },
     "execution_count": 3,
     "metadata": {},
     "output_type": "execute_result"
    }
   ],
   "source": [
    "find(l, 0, 0, 0)"
   ]
  },
  {
   "cell_type": "markdown",
   "metadata": {},
   "source": [
    "# Second solution"
   ]
  },
  {
   "cell_type": "code",
   "execution_count": 4,
   "metadata": {},
   "outputs": [],
   "source": [
    "arr = [10, 22, 9, 33, 21, 50, 41, 60, 80]\n",
    "state = [list() for _ in range(len(arr))]\n",
    "\n",
    "def find(arr, idx, l, max_l, state, last_number=None):\n",
    "    if idx == len(arr):\n",
    "        return max_l\n",
    "    if last_number != None and arr[idx] <= last_number:\n",
    "        return find(arr, idx + 1, l, max_l, state, last_number)\n",
    "    \n",
    "    if len(state[idx]) != 0:\n",
    "        for le, ln in state[idx]:\n",
    "            if ln != None and last_number!=None and le > l and ln < last_number:\n",
    "                return -1\n",
    "            \n",
    "    curr_state = (l, last_number)\n",
    "    state[idx].append(curr_state)\n",
    "\n",
    "    \n",
    "    # take current\n",
    "    new_max_l = l + 1 if l + 1 > max_l else max_l\n",
    "    t = find(arr, idx + 1, l + 1, new_max_l, state, arr[idx])\n",
    "    \n",
    "    # don't take\n",
    "    dt = find(arr, idx + 1, l, max_l, state, last_number)\n",
    "    \n",
    "    return max(dt, t)\n",
    "\n",
    "def find_wrapper(arr):\n",
    "    state = [list() for _ in range(len(arr))]\n",
    "    return find(arr, 0, 0, 0, state)"
   ]
  },
  {
   "cell_type": "code",
   "execution_count": 5,
   "metadata": {},
   "outputs": [],
   "source": [
    "# find(l, 0, 0, 0)\n",
    "# find_wrapper(arr)"
   ]
  },
  {
   "cell_type": "markdown",
   "metadata": {},
   "source": [
    "# Third Solution"
   ]
  },
  {
   "cell_type": "code",
   "execution_count": 16,
   "metadata": {
    "collapsed": true
   },
   "outputs": [],
   "source": [
    "def find1(arr):\n",
    "    mins = []\n",
    "    max_positions = {}\n",
    "    for val in arr:\n",
    "#         print(\"mins : \", mins)\n",
    "#         print(\"max_positions : \", max_positions)\n",
    "        if len(mins) == 0:\n",
    "            mins.append(val)\n",
    "            max_positions[val] = 0\n",
    "            continue\n",
    "        for i in reversed(range(len(mins))):\n",
    "            if val > mins[i]:\n",
    "                max_positions[val] = i + 1\n",
    "                if i + 1 >= len(mins):\n",
    "                    mins.append(val)\n",
    "                else:\n",
    "                    mins[i+1] = val if val < mins[i+1] else mins[i+1]\n",
    "                break\n",
    "            if i-1 < 0:\n",
    "                mins[i] = val\n",
    "    sol = -1\n",
    "    for k in max_positions:\n",
    "        sol = max_positions[k] if max_positions[k] > sol else sol\n",
    "    \n",
    "    return sol + 1\n",
    "        "
   ]
  },
  {
   "cell_type": "code",
   "execution_count": 14,
   "metadata": {
    "collapsed": true
   },
   "outputs": [],
   "source": [
    "arr = [91, 11, 24, 18, 70]\n"
   ]
  },
  {
   "cell_type": "code",
   "execution_count": 15,
   "metadata": {},
   "outputs": [
    {
     "name": "stdout",
     "output_type": "stream",
     "text": [
      "mins :  []\n",
      "max_positions :  {}\n",
      "mins :  [91]\n",
      "max_positions :  {91: 0}\n",
      "mins :  [11]\n",
      "max_positions :  {91: 0}\n",
      "mins :  [11, 24]\n",
      "max_positions :  {91: 0, 24: 1}\n",
      "mins :  [11, 18]\n",
      "max_positions :  {91: 0, 24: 1, 18: 1}\n"
     ]
    },
    {
     "data": {
      "text/plain": [
       "3"
      ]
     },
     "execution_count": 15,
     "metadata": {},
     "output_type": "execute_result"
    }
   ],
   "source": [
    "find1(arr)"
   ]
  },
  {
   "cell_type": "markdown",
   "metadata": {},
   "source": [
    "# Test"
   ]
  },
  {
   "cell_type": "code",
   "execution_count": 18,
   "metadata": {},
   "outputs": [
    {
     "name": "stdout",
     "output_type": "stream",
     "text": [
      "list :  [52, 84, 40, 8, 89, 8, 97, 67, 71, 57, 33, 82, 92, 87, 10, 15, 40, 20, 1, 29, 39, 67, 100, 92, 21, 78, 41, 83, 59, 89, 93, 14, 81, 89, 93, 58, 96, 68, 46, 78, 2, 47, 93, 40, 11, 9, 63, 56, 93, 16]\n",
      "sol 1 :  12\n",
      "sol 2 :  12\n",
      "list :  [13, 71, 25, 92, 39, 26, 70, 11, 98, 3, 89, 71, 80, 70, 82, 48, 38, 46, 72, 63, 30, 2, 91, 56, 41, 100, 53, 81, 56, 49, 30, 30, 54, 46, 78, 27, 48, 33, 61, 9, 84, 31, 25, 88, 52, 48, 74, 79, 44, 59]\n",
      "sol 1 :  10\n",
      "sol 2 :  10\n",
      "list :  [21, 8, 86, 33, 20, 18, 50, 78, 18, 10, 65, 22, 62, 52, 39, 61, 6, 17, 19, 78, 21, 79, 80, 83, 55, 63, 70, 86, 85, 34, 4, 25, 81, 15, 31, 23, 75, 97, 73, 47, 48, 90, 50, 35, 27, 62, 42, 100, 86, 15]\n",
      "sol 1 :  12\n",
      "sol 2 :  12\n",
      "list :  [95, 35, 66, 7, 45, 60, 42, 35, 28, 27, 62, 28, 27, 56, 35, 19, 1, 15, 84, 15, 41, 56, 51, 35, 73, 76, 47, 42, 100, 66, 39, 72, 62, 63, 4, 3, 61, 79, 52, 87, 18, 88, 98, 25, 82, 54, 16, 28, 43, 55]\n",
      "sol 1 :  12\n",
      "sol 2 :  12\n",
      "list :  [5, 55, 39, 85, 43, 40, 66, 98, 23, 93, 64, 60, 30, 76, 57, 41, 17, 11, 99, 45, 35, 82, 6, 92, 99, 48, 31, 99, 63, 77, 59, 46, 83, 35, 50, 46, 5, 7, 53, 85, 84, 98, 90, 66, 3, 69, 1, 29, 90, 56]\n",
      "sol 1 :  11\n",
      "sol 2 :  11\n"
     ]
    }
   ],
   "source": [
    "from random import randint\n",
    "\n",
    "size = 50\n",
    "interval = 100\n",
    "test_range = 5\n",
    "\n",
    "for i in range(test_range):\n",
    "    l = [randint(1, interval) for _ in range(size)]\n",
    "    print(\"list : \", l)\n",
    "    print(\"sol 1 : \", find_wrapper(l))\n",
    "    print(\"sol 2 : \", find1(l))"
   ]
  }
 ],
 "metadata": {
  "kernelspec": {
   "display_name": "Python [conda env:python3]",
   "language": "python",
   "name": "conda-env-python3-py"
  },
  "language_info": {
   "codemirror_mode": {
    "name": "ipython",
    "version": 3
   },
   "file_extension": ".py",
   "mimetype": "text/x-python",
   "name": "python",
   "nbconvert_exporter": "python",
   "pygments_lexer": "ipython3",
   "version": "3.6.2"
  }
 },
 "nbformat": 4,
 "nbformat_minor": 2
}
