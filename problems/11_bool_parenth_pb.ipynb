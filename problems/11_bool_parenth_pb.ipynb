{
 "cells": [
  {
   "cell_type": "markdown",
   "metadata": {},
   "source": [
    "# Problem : https://www.geeksforgeeks.org/dynamic-programming-set-37-boolean-parenthesization-problem/"
   ]
  },
  {
   "cell_type": "code",
   "execution_count": 91,
   "metadata": {
    "collapsed": true
   },
   "outputs": [],
   "source": [
    "t1 = [True, False, True] # sol 2\n",
    "op1 = ['^', '&']\n",
    "\n",
    "t2 = [True, False, False] # sol 2\n",
    "op2 = ['^', '|']\n",
    "\n",
    "t3 = [True, True, False, True] # sol 4\n",
    "op3 = ['^', '|', '&']"
   ]
  },
  {
   "cell_type": "code",
   "execution_count": 92,
   "metadata": {
    "collapsed": true
   },
   "outputs": [],
   "source": [
    "from itertools import combinations\n",
    "def get_grid(symbols, operations):\n",
    "    n_T = len([x for x in symbols if x is True])\n",
    "    n_F = len([x for x in symbols if x is False])\n",
    "    mapping_sym = {}\n",
    "    mapping_ops = {}\n",
    "    counter_sym = 0\n",
    "    for nt in range(n_T+1):\n",
    "        for nf in range(n_F+1):\n",
    "            if nf + nt < 2:\n",
    "                continue\n",
    "            mapping_sym[(nt, nf)] = counter_sym\n",
    "            counter_sym += 1\n",
    "    \n",
    "    counter_op = 0\n",
    "    for i in range(1, len(operations)+1):\n",
    "        for s in combinations(operations, i):\n",
    "            mapping_ops[s] = counter_op\n",
    "            counter_op += 1\n",
    "    \n",
    "    grid = [[None for _ in range(counter_sym)] for _ in range(counter_op)]\n",
    "    \n",
    "    return grid, mapping_ops, mapping_sym"
   ]
  },
  {
   "cell_type": "code",
   "execution_count": 93,
   "metadata": {
    "collapsed": true
   },
   "outputs": [],
   "source": [
    "def get_val(op, values):\n",
    "    if op is '&':\n",
    "        return values[0] and values[1]\n",
    "    elif op is '|':\n",
    "        return values[0] or values[1]\n",
    "    else:\n",
    "        return values[0] != values[1]"
   ]
  },
  {
   "cell_type": "code",
   "execution_count": 145,
   "metadata": {},
   "outputs": [],
   "source": [
    "def find(symbols, operations):    \n",
    "    grid, m_o, m_s = get_grid(symbols, operations)\n",
    "    queue_sym = list(m_s.keys())\n",
    "    queue_ops = list(m_o.keys())\n",
    "    queue_sym.sort(key=lambda x : x[0]+x[1])\n",
    "    \n",
    "    d_ops = {i:[op for op in queue_ops if len(op) == i] for i in range(1, len(operations)+1)}\n",
    "    for val in queue_sym:\n",
    "        sum_sym = val[0] + val[1]\n",
    "        if sum_sym == 2:\n",
    "            for op in d_ops[sum_sym-1]:\n",
    "                values = [True for _ in range(val[0])] + [False for _ in range(val[1])]\n",
    "#                 print(val, values, op, get_val(op, values) )\n",
    "                sol = [1, 0] if get_val(op, values) else [0, 1]\n",
    "                grid[m_o[op]][m_s[val]] = sol\n",
    "            continue\n",
    "\n",
    "        for op in d_ops[sum_sym-1]:\n",
    "            curr_sol = grid[m_o[op]][m_s[val]]\n",
    "            if curr_sol is None:\n",
    "                curr_sol = [0, 0]\n",
    "            if val[0] > 1:\n",
    "                for o in d_ops[sum_sym-2]:\n",
    "                    curr_operation = [ope for ope in op if ope not in o]\n",
    "                    curr_operation = curr_operation[0]\n",
    "                    prev_sol = grid[m_o[o]][m_s[(val[0] - 1, val[1])]]\n",
    "                    if get_val(curr_operation, [True, True]):\n",
    "                        curr_sol[0] += prev_sol[0]\n",
    "                    else:\n",
    "                        curr_sol[1] += prev_sol[0]\n",
    "\n",
    "                    if get_val(curr_operation, [True, False]):\n",
    "                        curr_sol[0] += prev_sol[1]\n",
    "                    else:\n",
    "                        curr_sol[1] += prev_sol[1]\n",
    "\n",
    "            if val[1] > 1:\n",
    "                for o in d_ops[sum_sym-2]:\n",
    "                    curr_operation = [ope for ope in op if ope not in o]\n",
    "                    curr_operation = curr_operation[0]\n",
    "                    prev_sol = grid[m_o[o]][m_s[(val[0], val[1] - 1)]]\n",
    "                    if get_val(curr_operation, [False, True]):\n",
    "                        curr_sol[0] += prev_sol[0]\n",
    "                    else:\n",
    "                        curr_sol[1] += prev_sol[0]\n",
    "\n",
    "                    if get_val(curr_operation, [False, False]):\n",
    "                        curr_sol[0] += prev_sol[1]\n",
    "                    else:\n",
    "                        curr_sol[1] += prev_sol[1]\n",
    "\n",
    "            grid[m_o[op]][m_s[val]] = curr_sol\n",
    "\n",
    "    return grid[m_o[tuple(operations)]][m_s[queue_sym[-1]]][0]\n",
    "\n",
    "\n"
   ]
  },
  {
   "cell_type": "code",
   "execution_count": 146,
   "metadata": {},
   "outputs": [
    {
     "data": {
      "text/plain": [
       "4"
      ]
     },
     "execution_count": 146,
     "metadata": {},
     "output_type": "execute_result"
    }
   ],
   "source": [
    "find(t3, op3)"
   ]
  },
  {
   "cell_type": "code",
   "execution_count": 141,
   "metadata": {},
   "outputs": [
    {
     "name": "stdout",
     "output_type": "stream",
     "text": [
      "{('^',): 0, ('|',): 1, ('&',): 2, ('^', '|'): 3, ('^', '&'): 4, ('|', '&'): 5, ('^', '|', '&'): 6} \n",
      " {(1, 1): 0, (2, 0): 1, (2, 1): 2, (3, 0): 3, (3, 1): 4} \n",
      " [4, 5] \n",
      " {1: [('^',), ('|',), ('&',)], 2: [('^', '|'), ('^', '&'), ('|', '&')], 3: [('^', '|', '&')]}\n"
     ]
    }
   ],
   "source": [
    "print(sol[0],'\\n', sol[1],'\\n', sol[3],'\\n', sol[4])\n",
    "grid = sol[2]"
   ]
  },
  {
   "cell_type": "code",
   "execution_count": 142,
   "metadata": {},
   "outputs": [
    {
     "name": "stdout",
     "output_type": "stream",
     "text": [
      "[[1, 0], [0, 1], None, None, None]\n",
      "[[1, 0], [0, 1], None, None, None]\n",
      "[[1, 0], [0, 1], None, None, None]\n",
      "[None, None, [1, 2], [3, 0], None]\n",
      "[None, None, [1, 2], [2, 1], None]\n",
      "[None, None, [3, 0], [2, 1], None]\n",
      "[None, None, None, None, [4, 5]]\n"
     ]
    }
   ],
   "source": [
    "for l in grid:\n",
    "    print(l)"
   ]
  },
  {
   "cell_type": "code",
   "execution_count": null,
   "metadata": {
    "collapsed": true
   },
   "outputs": [],
   "source": []
  }
 ],
 "metadata": {
  "kernelspec": {
   "display_name": "Python [conda env:python3]",
   "language": "python",
   "name": "conda-env-python3-py"
  },
  "language_info": {
   "codemirror_mode": {
    "name": "ipython",
    "version": 3
   },
   "file_extension": ".py",
   "mimetype": "text/x-python",
   "name": "python",
   "nbconvert_exporter": "python",
   "pygments_lexer": "ipython3",
   "version": "3.6.2"
  }
 },
 "nbformat": 4,
 "nbformat_minor": 2
}
