{
 "cells": [
  {
   "cell_type": "code",
   "execution_count": 27,
   "metadata": {
    "collapsed": true
   },
   "outputs": [],
   "source": [
    "l = [2, 1, 0, 3]"
   ]
  },
  {
   "cell_type": "code",
   "execution_count": 28,
   "metadata": {},
   "outputs": [],
   "source": [
    "def find(arr):\n",
    "    j_tab = [None] * len(arr)\n",
    "    \n",
    "    for i in reversed(range(len(arr))):\n",
    "        if arr[i] == 0 or i == len(arr) - 1:\n",
    "            j_tab[i] = 0\n",
    "            continue\n",
    "        if arr[i] >= len(arr) - i - 1:\n",
    "            j_tab[i] = 1\n",
    "            continue\n",
    "        \n",
    "        minn = j_tab[i + 1]\n",
    "        for j in range(1, arr[i] + 1):\n",
    "            minn = j_tab[i + j] if j_tab[i + j] < minn and j_tab[i + j] > 0 else minn\n",
    "            \n",
    "        j_tab[i] = minn + 1 if minn != 0 else 0\n",
    "    return j_tab[0] if j_tab[0] > 0 else -1 "
   ]
  },
  {
   "cell_type": "code",
   "execution_count": 29,
   "metadata": {},
   "outputs": [
    {
     "data": {
      "text/plain": [
       "-1"
      ]
     },
     "execution_count": 29,
     "metadata": {},
     "output_type": "execute_result"
    }
   ],
   "source": [
    "find(l)"
   ]
  },
  {
   "cell_type": "code",
   "execution_count": null,
   "metadata": {
    "collapsed": true
   },
   "outputs": [],
   "source": []
  }
 ],
 "metadata": {
  "kernelspec": {
   "display_name": "Python [conda env:python3]",
   "language": "python",
   "name": "conda-env-python3-py"
  },
  "language_info": {
   "codemirror_mode": {
    "name": "ipython",
    "version": 3
   },
   "file_extension": ".py",
   "mimetype": "text/x-python",
   "name": "python",
   "nbconvert_exporter": "python",
   "pygments_lexer": "ipython3",
   "version": "3.6.2"
  }
 },
 "nbformat": 4,
 "nbformat_minor": 2
}
