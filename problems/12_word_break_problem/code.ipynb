{
 "cells": [
  {
   "cell_type": "markdown",
   "metadata": {},
   "source": [
    "problem : https://www.geeksforgeeks.org/dynamic-programming-set-32-word-break-problem/"
   ]
  },
  {
   "cell_type": "code",
   "execution_count": 13,
   "metadata": {
    "collapsed": true
   },
   "outputs": [],
   "source": [
    "words = [\"mobile\",\"samsung\",\"sam\",\"sung\",\"man\",\"mango\",\"icecream\",\"and\",\"go\",\"i\",\"like\",\"ice\",\"cream\"]\n",
    "t1 = \"ilikesamsung\"\n",
    "t2 =\"iiiiiiii\"\n",
    "t3 =\"\"\n",
    "t4 =\"ilikelikeimangoiii\"\n",
    "t5 =\"samsungandmango\"\n",
    "t6 =\"samsungandmangok\"\n",
    "tst = [t1, t2, t3, t4, t5, t6]"
   ]
  },
  {
   "cell_type": "code",
   "execution_count": 14,
   "metadata": {},
   "outputs": [],
   "source": [
    "words_map = {x:True for x in words}"
   ]
  },
  {
   "cell_type": "code",
   "execution_count": 15,
   "metadata": {},
   "outputs": [],
   "source": [
    "def find(words_map, sentence):\n",
    "    if len(sentence) == 0:\n",
    "        return True\n",
    "    \n",
    "    for i in range(len(sentence)):\n",
    "        if words_map.get(sentence[:i+1]) and find(words_map, sentence[i+1:]):\n",
    "            return True\n",
    "        \n",
    "    return False\n",
    "            \n",
    "        "
   ]
  },
  {
   "cell_type": "code",
   "execution_count": 16,
   "metadata": {},
   "outputs": [
    {
     "name": "stdout",
     "output_type": "stream",
     "text": [
      "True\n",
      "True\n",
      "True\n",
      "True\n",
      "True\n",
      "False\n"
     ]
    }
   ],
   "source": [
    "for t in tst:\n",
    "    print(find(words_map, t))\n"
   ]
  },
  {
   "cell_type": "code",
   "execution_count": null,
   "metadata": {
    "collapsed": true
   },
   "outputs": [],
   "source": []
  }
 ],
 "metadata": {
  "kernelspec": {
   "display_name": "Python [conda env:python3]",
   "language": "python",
   "name": "conda-env-python3-py"
  },
  "language_info": {
   "codemirror_mode": {
    "name": "ipython",
    "version": 3
   },
   "file_extension": ".py",
   "mimetype": "text/x-python",
   "name": "python",
   "nbconvert_exporter": "python",
   "pygments_lexer": "ipython3",
   "version": "3.6.2"
  }
 },
 "nbformat": 4,
 "nbformat_minor": 2
}
