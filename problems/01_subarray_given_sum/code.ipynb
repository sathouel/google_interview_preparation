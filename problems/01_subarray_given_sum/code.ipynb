{
 "cells": [
  {
   "cell_type": "code",
   "execution_count": 1,
   "metadata": {
    "collapsed": true
   },
   "outputs": [],
   "source": [
    "l = [1, 2, 10, 1]"
   ]
  },
  {
   "cell_type": "code",
   "execution_count": 6,
   "metadata": {
    "collapsed": true
   },
   "outputs": [],
   "source": [
    "def subArr(arr, val):\n",
    "    l, r = 0, 0\n",
    "    summ = arr[0]\n",
    "    while r < len(arr) and l < len(arr):\n",
    "        if summ < val:\n",
    "            r += 1\n",
    "            if r >= len(arr):\n",
    "                break\n",
    "            summ += arr[r]\n",
    "        elif summ > val:\n",
    "            if l == r:\n",
    "                r += 1\n",
    "                if r >= len(arr):\n",
    "                    break\n",
    "                summ += arr[r]\n",
    "            else :\n",
    "                summ -= arr[l]\n",
    "                l += 1\n",
    "        else:\n",
    "            return l, r\n",
    "        \n",
    "    return -1\n",
    "                "
   ]
  },
  {
   "cell_type": "code",
   "execution_count": 7,
   "metadata": {},
   "outputs": [
    {
     "data": {
      "text/plain": [
       "-1"
      ]
     },
     "execution_count": 7,
     "metadata": {},
     "output_type": "execute_result"
    }
   ],
   "source": [
    "subArr(l, 21)"
   ]
  },
  {
   "cell_type": "code",
   "execution_count": null,
   "metadata": {
    "collapsed": true
   },
   "outputs": [],
   "source": []
  }
 ],
 "metadata": {
  "kernelspec": {
   "display_name": "Python [conda env:python3]",
   "language": "python",
   "name": "conda-env-python3-py"
  },
  "language_info": {
   "codemirror_mode": {
    "name": "ipython",
    "version": 3
   },
   "file_extension": ".py",
   "mimetype": "text/x-python",
   "name": "python",
   "nbconvert_exporter": "python",
   "pygments_lexer": "ipython3",
   "version": "3.6.2"
  }
 },
 "nbformat": 4,
 "nbformat_minor": 2
}
