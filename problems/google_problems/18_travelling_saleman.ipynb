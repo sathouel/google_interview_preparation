{
 "cells": [
  {
   "cell_type": "markdown",
   "metadata": {},
   "source": [
    "# Problem : https://www.geeksforgeeks.org/travelling-salesman-problem-set-1/"
   ]
  },
  {
   "cell_type": "code",
   "execution_count": 41,
   "metadata": {
    "collapsed": true
   },
   "outputs": [],
   "source": [
    "graph = {1:[2, 3, 4],\n",
    "      2:[1, 3, 4],\n",
    "      3:[1, 2, 4],\n",
    "      4:[1, 2, 3]\n",
    "    }\n",
    "costs = {(1,2):10,\n",
    "      (1,3):15,\n",
    "      (1,4):20,\n",
    "      (2,4):25,\n",
    "      (2,3):35,\n",
    "      (3,4):30,\n",
    "     }"
   ]
  },
  {
   "cell_type": "code",
   "execution_count": 42,
   "metadata": {
    "collapsed": true
   },
   "outputs": [],
   "source": [
    "def get_cost(c, i, j):\n",
    "    min_idx = i if i <= j else j\n",
    "    max_idx = i if i > j else j\n",
    "    return c[(min_idx, max_idx)]"
   ]
  },
  {
   "cell_type": "code",
   "execution_count": 43,
   "metadata": {},
   "outputs": [],
   "source": [
    "from itertools import permutations"
   ]
  },
  {
   "cell_type": "code",
   "execution_count": 44,
   "metadata": {},
   "outputs": [],
   "source": [
    "\n",
    "start = 1\n",
    "keys = list(g1.keys())\n",
    "keys = [x for x in keys if x != start]\n",
    "sols = []"
   ]
  },
  {
   "cell_type": "code",
   "execution_count": 45,
   "metadata": {},
   "outputs": [],
   "source": [
    "import sys"
   ]
  },
  {
   "cell_type": "code",
   "execution_count": 46,
   "metadata": {},
   "outputs": [],
   "source": [
    "def get_path_cost(graph, costs, path):\n",
    "    curr_node = None\n",
    "    cost = 0\n",
    "    for i in range(len(path) - 1):\n",
    "        curr_node = path[i]\n",
    "        next_node = path[i+1]\n",
    "        if next_node not in graph[curr_node]:\n",
    "            return sys.maxsize\n",
    "        cost += get_cost(costs, curr_node, next_node)\n",
    "    return cost"
   ]
  },
  {
   "cell_type": "code",
   "execution_count": 47,
   "metadata": {},
   "outputs": [],
   "source": [
    "def find(graph, costs, start):\n",
    "    keys = list(graph.keys())\n",
    "    keys = [x for x in keys if x != start]\n",
    "    sols = []\n",
    "    for p in permutations(keys, len(keys)):\n",
    "        curr_sol = [start] + list(p) + [start]\n",
    "        sols.append(curr_sol)\n",
    "    \n",
    "    best_cost = sys.maxsize\n",
    "    best_path = None\n",
    "    for p in sols:\n",
    "        curr_cost = get_path_cost(graph, costs, p)\n",
    "        best_path = best_path if best_cost <= curr_cost else p[:]\n",
    "        best_cost = best_cost if best_cost <= curr_cost else curr_cost\n",
    "        \n",
    "    return best_cost, best_path"
   ]
  },
  {
   "cell_type": "code",
   "execution_count": 48,
   "metadata": {},
   "outputs": [
    {
     "data": {
      "text/plain": [
       "(80, [1, 2, 4, 3, 1])"
      ]
     },
     "execution_count": 48,
     "metadata": {},
     "output_type": "execute_result"
    }
   ],
   "source": [
    "find(g1, c1, 1)"
   ]
  },
  {
   "cell_type": "markdown",
   "metadata": {},
   "source": [
    "# Sol II"
   ]
  },
  {
   "cell_type": "code",
   "execution_count": 82,
   "metadata": {
    "collapsed": true
   },
   "outputs": [],
   "source": [
    "from itertools import combinations"
   ]
  },
  {
   "cell_type": "code",
   "execution_count": 99,
   "metadata": {},
   "outputs": [],
   "source": [
    "keys = list(graph.keys())\n",
    "keys = [x for x in keys if x != start]\n",
    "set_mapping = {}\n",
    "set_lens = {}\n",
    "counter = 0\n",
    "for i in range(1, len(keys)+1):\n",
    "    for p in combinations(keys, i):\n",
    "        set_mapping[str(list(p))] = counter\n",
    "        if set_lens.get(len(list(p))) is None:\n",
    "            set_lens[len(list(p))] = [list(p)]\n",
    "        else:\n",
    "            set_lens[len(list(p))].append(list(p))\n",
    "        counter += 1"
   ]
  },
  {
   "cell_type": "code",
   "execution_count": 100,
   "metadata": {},
   "outputs": [
    {
     "data": {
      "text/plain": [
       "{'[2, 3, 4]': 6,\n",
       " '[2, 3]': 3,\n",
       " '[2, 4]': 4,\n",
       " '[2]': 0,\n",
       " '[3, 4]': 5,\n",
       " '[3]': 1,\n",
       " '[4]': 2}"
      ]
     },
     "execution_count": 100,
     "metadata": {},
     "output_type": "execute_result"
    }
   ],
   "source": [
    "set_mapping"
   ]
  },
  {
   "cell_type": "code",
   "execution_count": 101,
   "metadata": {},
   "outputs": [
    {
     "data": {
      "text/plain": [
       "{1: [[2], [3], [4]], 2: [[2, 3], [2, 4], [3, 4]], 3: [[2, 3, 4]]}"
      ]
     },
     "execution_count": 101,
     "metadata": {},
     "output_type": "execute_result"
    }
   ],
   "source": [
    "set_lens"
   ]
  },
  {
   "cell_type": "code",
   "execution_count": 102,
   "metadata": {
    "collapsed": true
   },
   "outputs": [],
   "source": [
    "line = max(keys) + 1\n",
    "col = len(set_mapping)\n",
    "grid = [[None for _ in range(col)] for _ in range(line)]"
   ]
  },
  {
   "cell_type": "code",
   "execution_count": 103,
   "metadata": {},
   "outputs": [],
   "source": [
    "def belongs_to(s1, s2):\n",
    "    for val in s1:\n",
    "        if val not in s2:\n",
    "            return False\n",
    "    return True"
   ]
  },
  {
   "cell_type": "code",
   "execution_count": 104,
   "metadata": {},
   "outputs": [],
   "source": [
    "for i in range(1, len(keys)+1):\n",
    "    for p in combinations(keys, i):\n",
    "        curr_set = list(p)\n",
    "        set_idx = set_mapping[str(curr_set)]\n",
    "        if len(curr_set) == 1:\n",
    "            grid[curr_set[0]][set_idx] = (get_cost(costs, start, curr_set[0]), [start, curr_set[0]])\n",
    "            continue\n",
    "        \n",
    "        \n",
    "        for s in set_lens[len(curr_set) - 1]:\n",
    "            if not belongs_to(s, curr_set):\n",
    "                continue\n",
    "            s_index = set_mapping[str(s)]\n",
    "            \n",
    "            # get last value of path\n",
    "            j = -1\n",
    "            for val in curr_set:\n",
    "                if val not in s:\n",
    "                    j = val\n",
    "                    break\n",
    "                    \n",
    "            best_cost = sys.maxsize\n",
    "            best_path = []\n",
    "            if grid[j][set_idx] is not None:\n",
    "                best_cost, best_path = grid[j][set_idx]\n",
    "                best_path = list(best_path)\n",
    "            \n",
    "            \n",
    "            for i in s:\n",
    "                curr_cost, curr_path = grid[i][s_index]\n",
    "                curr_cost += get_cost(costs, i, j)\n",
    "                curr_path = list(curr_path)\n",
    "                curr_path += [j]\n",
    "                best_path = best_path if best_cost <= curr_cost else curr_path\n",
    "                best_cost = best_cost if best_cost <= curr_cost else curr_cost\n",
    "            \n",
    "            grid[j][set_idx] = (best_cost, list(best_path))\n",
    "\n"
   ]
  },
  {
   "cell_type": "code",
   "execution_count": 110,
   "metadata": {},
   "outputs": [
    {
     "name": "stdout",
     "output_type": "stream",
     "text": [
      "80 [1, 2, 4, 3, 1]\n"
     ]
    }
   ],
   "source": [
    "max_set_len = max(set_lens.keys())\n",
    "cost_sol = sys.maxsize\n",
    "path_sol = []\n",
    "for s in set_lens[max_set_len]:\n",
    "    s_index = set_mapping[str(s)]\n",
    "    for val in s:\n",
    "        curr_cost, curr_path = grid[val][s_index]\n",
    "        curr_cost += get_cost(costs, val, start)\n",
    "        curr_path = list(curr_path)\n",
    "        curr_path += [start]\n",
    "        path_sol = path_sol if cost_sol <= curr_cost else curr_path\n",
    "        cost_sol = cost_sol if cost_sol <= curr_cost else curr_cost\n",
    "        \n",
    "print(cost_sol, path_sol)\n",
    "    "
   ]
  },
  {
   "cell_type": "code",
   "execution_count": 108,
   "metadata": {},
   "outputs": [
    {
     "data": {
      "text/plain": [
       "3"
      ]
     },
     "execution_count": 108,
     "metadata": {},
     "output_type": "execute_result"
    }
   ],
   "source": []
  },
  {
   "cell_type": "code",
   "execution_count": null,
   "metadata": {
    "collapsed": true
   },
   "outputs": [],
   "source": []
  }
 ],
 "metadata": {
  "kernelspec": {
   "display_name": "Python [conda env:python3]",
   "language": "python",
   "name": "conda-env-python3-py"
  },
  "language_info": {
   "codemirror_mode": {
    "name": "ipython",
    "version": 3
   },
   "file_extension": ".py",
   "mimetype": "text/x-python",
   "name": "python",
   "nbconvert_exporter": "python",
   "pygments_lexer": "ipython3",
   "version": "3.6.2"
  }
 },
 "nbformat": 4,
 "nbformat_minor": 2
}
