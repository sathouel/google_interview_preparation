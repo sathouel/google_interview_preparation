{
 "cells": [
  {
   "cell_type": "markdown",
   "metadata": {},
   "source": [
    "Problem :https://www.geeksforgeeks.org/given-an-array-arr-find-the-maximum-j-i-such-that-arrj-arri/"
   ]
  },
  {
   "cell_type": "code",
   "execution_count": 4,
   "metadata": {
    "collapsed": true
   },
   "outputs": [],
   "source": [
    "t1 = [34, 8, 10, 3, 2, 80, 30, 33, 1] # sol 6\n",
    "t2 = [9, 2, 3, 4, 5, 6, 7, 8, 18, 0] # sol 8\n",
    "t3 = [1, 2, 3, 4, 5, 6] # sol 5\n",
    "t4 = [6, 5, 4, 3, 2, 1] # sol -1\n",
    "t5 = [6, 1, 2, 3, 4] # sol 3"
   ]
  },
  {
   "cell_type": "code",
   "execution_count": 5,
   "metadata": {
    "collapsed": true
   },
   "outputs": [],
   "source": [
    "def find(arr, i, j):\n",
    "    if i >= j:\n",
    "        return -1\n",
    "    if arr[i] < arr[j]:\n",
    "        return j - i\n",
    "    return max(find(arr, i + 1, j), find(arr, i, j - 1))"
   ]
  },
  {
   "cell_type": "code",
   "execution_count": 6,
   "metadata": {},
   "outputs": [
    {
     "data": {
      "text/plain": [
       "3"
      ]
     },
     "execution_count": 6,
     "metadata": {},
     "output_type": "execute_result"
    }
   ],
   "source": [
    "t = t5\n",
    "find(t, 0, len(t) - 1)"
   ]
  },
  {
   "cell_type": "markdown",
   "metadata": {},
   "source": [
    "Sol II O(nlog(n))"
   ]
  },
  {
   "cell_type": "code",
   "execution_count": 7,
   "metadata": {
    "collapsed": true
   },
   "outputs": [],
   "source": [
    "def find2(arr):\n",
    "    new_arr = [(val, i) for i, val in enumerate(arr)]\n",
    "    new_arr = sorted(new_arr, key=lambda x: x[0])\n",
    "    return find3(new_arr)"
   ]
  },
  {
   "cell_type": "code",
   "execution_count": 8,
   "metadata": {
    "collapsed": true
   },
   "outputs": [],
   "source": [
    "import sys\n",
    "def find3(arr):\n",
    "    sol = -sys.maxsize\n",
    "    curr_min = arr[0][1]\n",
    "    for i in range(len(arr)):\n",
    "        sol = sol if sol > arr[i][1] - curr_min else arr[i][1] - curr_min\n",
    "        curr_min = curr_min if curr_min < arr[i][1] else arr[i][1]\n",
    "    return sol"
   ]
  },
  {
   "cell_type": "code",
   "execution_count": 9,
   "metadata": {},
   "outputs": [
    {
     "data": {
      "text/plain": [
       "0"
      ]
     },
     "execution_count": 9,
     "metadata": {},
     "output_type": "execute_result"
    }
   ],
   "source": [
    "find2(t4)"
   ]
  },
  {
   "cell_type": "markdown",
   "metadata": {
    "collapsed": true
   },
   "source": [
    "Sol III  O(n)"
   ]
  },
  {
   "cell_type": "code",
   "execution_count": 27,
   "metadata": {
    "collapsed": true
   },
   "outputs": [],
   "source": [
    "def find4(arr):\n",
    "    lMin = [0 for _ in range(len(arr))]\n",
    "    rMax = [0 for _ in range(len(arr))]\n",
    "    curr_min = arr[0]\n",
    "    for i in range(len(arr)):\n",
    "        curr_min = curr_min if curr_min <= arr[i] else arr[i]\n",
    "        lMin[i] = curr_min\n",
    "    \n",
    "    curr_max = arr[len(arr) - 1]\n",
    "    for j in reversed(range(len(arr))):\n",
    "        curr_max = curr_max if curr_max >= arr[j] else arr[j]\n",
    "        rMax[j] = curr_max\n",
    "        \n",
    "    itmin = itmax = 0\n",
    "    sol = -1\n",
    "    while itmin < len(arr) and itmax < len(arr):\n",
    "        sol = sol if sol > itmax - itmin else itmax - itmin\n",
    "        if lMin[itmin] >= rMax[itmax]:\n",
    "            itmin += 1\n",
    "        else :\n",
    "            itmax += 1\n",
    "            \n",
    "    return sol"
   ]
  },
  {
   "cell_type": "code",
   "execution_count": 29,
   "metadata": {},
   "outputs": [
    {
     "data": {
      "text/plain": [
       "5"
      ]
     },
     "execution_count": 29,
     "metadata": {},
     "output_type": "execute_result"
    }
   ],
   "source": [
    "find4(t3)"
   ]
  },
  {
   "cell_type": "code",
   "execution_count": null,
   "metadata": {
    "collapsed": true
   },
   "outputs": [],
   "source": []
  }
 ],
 "metadata": {
  "kernelspec": {
   "display_name": "Python [conda env:python3]",
   "language": "python",
   "name": "conda-env-python3-py"
  },
  "language_info": {
   "codemirror_mode": {
    "name": "ipython",
    "version": 3
   },
   "file_extension": ".py",
   "mimetype": "text/x-python",
   "name": "python",
   "nbconvert_exporter": "python",
   "pygments_lexer": "ipython3",
   "version": "3.6.2"
  }
 },
 "nbformat": 4,
 "nbformat_minor": 2
}
