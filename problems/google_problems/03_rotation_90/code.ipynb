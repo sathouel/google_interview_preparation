{
 "cells": [
  {
   "cell_type": "code",
   "execution_count": 38,
   "metadata": {
    "collapsed": true
   },
   "outputs": [],
   "source": [
    "tab = [1, 2, 3, 4, 5, 6, 7, 8, 9]\n",
    "dim = 3"
   ]
  },
  {
   "cell_type": "code",
   "execution_count": 39,
   "metadata": {
    "collapsed": true
   },
   "outputs": [],
   "source": [
    "def swap(tab, dim, i1, j1, i2, j2):\n",
    "    idx1 = i1*dim + j1\n",
    "    idx2 = i2*dim + j2\n",
    "    tab[idx1], tab[idx2] = tab[idx2], tab[idx1]\n",
    "    return"
   ]
  },
  {
   "cell_type": "code",
   "execution_count": 40,
   "metadata": {
    "collapsed": true
   },
   "outputs": [],
   "source": [
    "def rotate(tab, dim):\n",
    "    # transpose step \n",
    "    sol = list(tab)\n",
    "    for i in range(dim):\n",
    "        for j in range(dim):\n",
    "            if i >= j:\n",
    "                continue\n",
    "            swap(sol, dim, i, j, j, i)\n",
    "    \n",
    "    # reverse col\n",
    "    for raw in range(dim):\n",
    "        for c in range(int(dim/2)):\n",
    "            swap(sol, dim, raw, c, raw, dim - c - 1)\n",
    "    \n",
    "    return sol"
   ]
  },
  {
   "cell_type": "code",
   "execution_count": 42,
   "metadata": {},
   "outputs": [
    {
     "data": {
      "text/plain": [
       "[7, 4, 1, 8, 5, 2, 9, 6, 3]"
      ]
     },
     "execution_count": 42,
     "metadata": {},
     "output_type": "execute_result"
    }
   ],
   "source": [
    "rotate(tab, 3)"
   ]
  },
  {
   "cell_type": "code",
   "execution_count": null,
   "metadata": {
    "collapsed": true
   },
   "outputs": [],
   "source": []
  }
 ],
 "metadata": {
  "kernelspec": {
   "display_name": "Python [conda env:python3]",
   "language": "python",
   "name": "conda-env-python3-py"
  },
  "language_info": {
   "codemirror_mode": {
    "name": "ipython",
    "version": 3
   },
   "file_extension": ".py",
   "mimetype": "text/x-python",
   "name": "python",
   "nbconvert_exporter": "python",
   "pygments_lexer": "ipython3",
   "version": "3.6.2"
  }
 },
 "nbformat": 4,
 "nbformat_minor": 2
}
