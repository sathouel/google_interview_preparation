{
 "cells": [
  {
   "cell_type": "markdown",
   "metadata": {},
   "source": [
    "Problem : https://www.geeksforgeeks.org/given-sorted-dictionary-find-precedence-characters/"
   ]
  },
  {
   "cell_type": "code",
   "execution_count": 24,
   "metadata": {
    "collapsed": true
   },
   "outputs": [],
   "source": [
    "t1 = [\"baa\", \"abcd\", \"abca\", \"cab\", \"cad\"]"
   ]
  },
  {
   "cell_type": "code",
   "execution_count": 25,
   "metadata": {
    "collapsed": true
   },
   "outputs": [],
   "source": [
    "def buildGraph(lst):\n",
    "    graph = {}\n",
    "    for w in lst:\n",
    "        for l in w:\n",
    "            if graph.get(l) is None:\n",
    "                graph[l] = []\n",
    "    return graph"
   ]
  },
  {
   "cell_type": "code",
   "execution_count": 26,
   "metadata": {},
   "outputs": [],
   "source": [
    "def concat_lst_uniq(lst1, lst2):\n",
    "    hst = {}\n",
    "    sol = lst1\n",
    "    for i in lst1:\n",
    "        hst[i] = True\n",
    "    for i in lst2:\n",
    "        if hst.get(i) is None:\n",
    "            hst[i] = True\n",
    "            sol.append(i)\n",
    "    return sol\n",
    "\n",
    "def fillGraph(graph, lst):\n",
    "    first_letters = [w[0] for w in lst]\n",
    "    letters_hst = {}\n",
    "    uniq_first_letters = []\n",
    "    for l in first_letters:\n",
    "        if letters_hst.get(l) is None:\n",
    "            letters_hst[l] = True\n",
    "            uniq_first_letters.append(l)\n",
    "    \n",
    "    for i, l in enumerate(uniq_first_letters):\n",
    "        graph[l] = concat_lst_uniq(graph[l] , uniq_first_letters[i+1:])\n"
   ]
  },
  {
   "cell_type": "code",
   "execution_count": 27,
   "metadata": {
    "collapsed": true
   },
   "outputs": [],
   "source": [
    "def split_lst(lst):\n",
    "    hst = {}\n",
    "    for w in lst:\n",
    "        if hst.get(w[0]) is None:\n",
    "            hst[w[0]] = [w[1:]]\n",
    "        else:\n",
    "            hst[w[0]].append(w[1:])\n",
    "    return hst"
   ]
  },
  {
   "cell_type": "code",
   "execution_count": 28,
   "metadata": {
    "collapsed": true
   },
   "outputs": [],
   "source": [
    "def getGraph(graph, lst):\n",
    "    if len(lst) < 2:\n",
    "        return\n",
    "    fillGraph(graph, lst)\n",
    "    hst = split_lst(lst)\n",
    "    for k, v in hst.items():\n",
    "        getGraph(graph, v)\n",
    "        "
   ]
  },
  {
   "cell_type": "code",
   "execution_count": 29,
   "metadata": {
    "collapsed": true
   },
   "outputs": [],
   "source": [
    "g = buildGraph(t1)"
   ]
  },
  {
   "cell_type": "code",
   "execution_count": 30,
   "metadata": {},
   "outputs": [],
   "source": [
    "getGraph(g, t1)"
   ]
  },
  {
   "cell_type": "code",
   "execution_count": 31,
   "metadata": {},
   "outputs": [
    {
     "data": {
      "text/plain": [
       "{'a': ['c'], 'b': ['a', 'c', 'd'], 'c': [], 'd': ['a']}"
      ]
     },
     "execution_count": 31,
     "metadata": {},
     "output_type": "execute_result"
    }
   ],
   "source": [
    "g"
   ]
  },
  {
   "cell_type": "code",
   "execution_count": 35,
   "metadata": {},
   "outputs": [
    {
     "name": "stdout",
     "output_type": "stream",
     "text": [
      "c\n",
      "a\n",
      "d\n",
      "b\n"
     ]
    }
   ],
   "source": [
    "g_tmp = dict(g)\n",
    "for i in range(len(g)):\n",
    "    curr = None\n",
    "    for k, v in g_tmp.items():\n",
    "        if len(v) == 0:\n",
    "            curr = k\n",
    "            break\n",
    "    print(curr)\n",
    "    g_tmp.pop(curr)\n",
    "    for k in g_tmp.keys():\n",
    "        if curr in g_tmp[k]:\n",
    "            g_tmp[k].remove(curr)\n",
    "            "
   ]
  },
  {
   "cell_type": "code",
   "execution_count": null,
   "metadata": {
    "collapsed": true
   },
   "outputs": [],
   "source": []
  }
 ],
 "metadata": {
  "kernelspec": {
   "display_name": "Python [conda env:python3]",
   "language": "python",
   "name": "conda-env-python3-py"
  },
  "language_info": {
   "codemirror_mode": {
    "name": "ipython",
    "version": 3
   },
   "file_extension": ".py",
   "mimetype": "text/x-python",
   "name": "python",
   "nbconvert_exporter": "python",
   "pygments_lexer": "ipython3",
   "version": "3.6.2"
  }
 },
 "nbformat": 4,
 "nbformat_minor": 2
}
