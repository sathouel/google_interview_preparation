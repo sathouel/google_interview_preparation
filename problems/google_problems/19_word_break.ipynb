{
 "cells": [
  {
   "cell_type": "markdown",
   "metadata": {},
   "source": [
    "# Problem : https://www.geeksforgeeks.org/word-break-problem-using-backtracking/"
   ]
  },
  {
   "cell_type": "code",
   "execution_count": 23,
   "metadata": {
    "collapsed": true
   },
   "outputs": [],
   "source": [
    "d1 = ['i',\n",
    "      'like',\n",
    "      'sam',\n",
    "      'sung',\n",
    "      'samsung',\n",
    "      'mobile',\n",
    "      'ice',\n",
    "      'cream',\n",
    "      'icecream',\n",
    "      'man',\n",
    "      'go',\n",
    "      'mango',\n",
    "      'and'\n",
    "     ]\n",
    "d = {val:True for val in d1}\n",
    "t1 = 'ilikesamsungmobile'\n",
    "t2 = 'ilikeicecreamandmango'"
   ]
  },
  {
   "cell_type": "code",
   "execution_count": 24,
   "metadata": {
    "collapsed": true
   },
   "outputs": [],
   "source": [
    "def find(d, s, sol):\n",
    "    if len(s) == 0:\n",
    "        print(' '.join(sol))\n",
    "        return\n",
    "    for i in range(len(s)):\n",
    "        tmp = s[:i+1]\n",
    "        if d.get(tmp):\n",
    "            sol.append(s[:i+1])\n",
    "            find(d, s[i+1:], sol)\n",
    "            sol.pop()\n",
    "    return"
   ]
  },
  {
   "cell_type": "code",
   "execution_count": 25,
   "metadata": {},
   "outputs": [
    {
     "name": "stdout",
     "output_type": "stream",
     "text": [
      "i like ice cream and man go\n",
      "i like ice cream and mango\n",
      "i like icecream and man go\n",
      "i like icecream and mango\n"
     ]
    }
   ],
   "source": [
    "sol = []\n",
    "find(d, t2, sol)"
   ]
  },
  {
   "cell_type": "code",
   "execution_count": null,
   "metadata": {
    "collapsed": true
   },
   "outputs": [],
   "source": []
  }
 ],
 "metadata": {
  "kernelspec": {
   "display_name": "Python [conda env:python3]",
   "language": "python",
   "name": "conda-env-python3-py"
  },
  "language_info": {
   "codemirror_mode": {
    "name": "ipython",
    "version": 3
   },
   "file_extension": ".py",
   "mimetype": "text/x-python",
   "name": "python",
   "nbconvert_exporter": "python",
   "pygments_lexer": "ipython3",
   "version": "3.6.2"
  }
 },
 "nbformat": 4,
 "nbformat_minor": 2
}
