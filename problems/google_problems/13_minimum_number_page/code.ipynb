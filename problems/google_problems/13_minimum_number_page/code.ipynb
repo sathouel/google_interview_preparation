{
 "cells": [
  {
   "cell_type": "markdown",
   "metadata": {
    "collapsed": true
   },
   "source": [
    "Problem : https://www.geeksforgeeks.org/allocate-minimum-number-pages/"
   ]
  },
  {
   "cell_type": "code",
   "execution_count": 92,
   "metadata": {
    "collapsed": true
   },
   "outputs": [],
   "source": [
    "p = [12, 34, 67, 90]"
   ]
  },
  {
   "cell_type": "markdown",
   "metadata": {},
   "source": [
    "Naive solution"
   ]
  },
  {
   "cell_type": "code",
   "execution_count": 93,
   "metadata": {
    "collapsed": true
   },
   "outputs": [],
   "source": [
    "def find(pages, m, max_score):\n",
    "    if m > len(pages):\n",
    "        return -1\n",
    "    if m == 1:\n",
    "        return max(max_score, sum(pages))\n",
    "    \n",
    "    curr_score = 0\n",
    "    sol = -1\n",
    "    for i in range(len(pages)):\n",
    "        curr_score += pages[i]\n",
    "        curr_sol = find(pages[i+1:], m-1, max(max_score, curr_score))\n",
    "        if sol < 0:\n",
    "            sol = curr_sol\n",
    "            continue\n",
    "        if curr_sol < 0:\n",
    "            continue\n",
    "        sol = sol if sol < curr_sol else curr_sol\n",
    "    return sol\n",
    "    "
   ]
  },
  {
   "cell_type": "code",
   "execution_count": 94,
   "metadata": {},
   "outputs": [
    {
     "data": {
      "text/plain": [
       "113"
      ]
     },
     "execution_count": 94,
     "metadata": {},
     "output_type": "execute_result"
    }
   ],
   "source": [
    "find(p, 2, 0)"
   ]
  },
  {
   "cell_type": "markdown",
   "metadata": {},
   "source": [
    "Optimal solution"
   ]
  },
  {
   "cell_type": "code",
   "execution_count": 95,
   "metadata": {
    "collapsed": true
   },
   "outputs": [],
   "source": [
    "def possible(pages, m, thr):\n",
    "    if m > len(pages):\n",
    "        return False\n",
    "    if m == 1:\n",
    "        return sum(pages) <= thr\n",
    "    \n",
    "    curr_sum = 0\n",
    "    for i in range(len(pages)):\n",
    "        if curr_sum + pages[i] > thr:\n",
    "            return possible(pages[i:], m-1, thr)\n",
    "        curr_sum += pages[i]\n",
    "        \n",
    "    return False"
   ]
  },
  {
   "cell_type": "code",
   "execution_count": 117,
   "metadata": {},
   "outputs": [],
   "source": [
    "import sys\n",
    "def find(pages, m):\n",
    "    start = pages[0]\n",
    "    end = sum(pages)\n",
    "    sol = sys.maxsize\n",
    "    while start <= end:\n",
    "        mid = int((start + end) / 2)\n",
    "        if possible(pages, m, mid):\n",
    "            sol = min(sol, mid)\n",
    "            end = mid - 1\n",
    "        else:\n",
    "            start = mid + 1 \n",
    "            \n",
    "    return sol"
   ]
  },
  {
   "cell_type": "code",
   "execution_count": 118,
   "metadata": {},
   "outputs": [
    {
     "data": {
      "text/plain": [
       "113"
      ]
     },
     "execution_count": 118,
     "metadata": {},
     "output_type": "execute_result"
    }
   ],
   "source": [
    "find(p, 2)"
   ]
  },
  {
   "cell_type": "code",
   "execution_count": null,
   "metadata": {
    "collapsed": true
   },
   "outputs": [],
   "source": []
  }
 ],
 "metadata": {
  "kernelspec": {
   "display_name": "Python [conda env:python3]",
   "language": "python",
   "name": "conda-env-python3-py"
  },
  "language_info": {
   "codemirror_mode": {
    "name": "ipython",
    "version": 3
   },
   "file_extension": ".py",
   "mimetype": "text/x-python",
   "name": "python",
   "nbconvert_exporter": "python",
   "pygments_lexer": "ipython3",
   "version": "3.6.2"
  }
 },
 "nbformat": 4,
 "nbformat_minor": 2
}
