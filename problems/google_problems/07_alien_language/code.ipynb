{
 "cells": [
  {
   "cell_type": "code",
   "execution_count": 54,
   "metadata": {
    "collapsed": true
   },
   "outputs": [],
   "source": [
    "words = [\"baa\", \"abcd\", \"abca\", \"cab\", \"cad\"]"
   ]
  },
  {
   "cell_type": "code",
   "execution_count": 44,
   "metadata": {
    "collapsed": true
   },
   "outputs": [],
   "source": [
    "letters = 'abcdefghijklmnopqrstuvwxyz'\n",
    "let_dct = {}\n",
    "for i in range(len(letters)):\n",
    "    let_dct[letters[i]] = i\n",
    "    \n",
    "    \n",
    "    "
   ]
  },
  {
   "cell_type": "code",
   "execution_count": 48,
   "metadata": {},
   "outputs": [],
   "source": [
    "orders = []\n",
    "def find(words, orders):\n",
    "#     if len(words) < 2:\n",
    "#         return \n",
    "    order = []\n",
    "    hst = [0] * 26\n",
    "    \n",
    "    for wrd in words:\n",
    "        if hst[let_dct[wrd[0]]] == 1:\n",
    "            continue\n",
    "        order.append(wrd[0])\n",
    "        hst[let_dct[wrd[0]]] = 1\n",
    "        \n",
    "    if len(order) > 1:    \n",
    "        orders.append(order)\n",
    "    \n",
    "    \n",
    "    wrds_grp = [list() for _ in range(26)]\n",
    "    for wrd in words:\n",
    "        wrds_grp[let_dct[wrd[0]]].append(wrd)\n",
    "    \n",
    "#     print(\"wrds grp \", wrds_grp) \n",
    "    for grp in wrds_grp:\n",
    "        if len(grp) > 1:\n",
    "            new_grp = [wrd[1:] for wrd in grp]\n",
    "            find(new_grp, orders)\n",
    "    \n",
    "    return "
   ]
  },
  {
   "cell_type": "code",
   "execution_count": 55,
   "metadata": {},
   "outputs": [],
   "source": [
    "orders = []\n",
    "# words = [\"caa\", \"aaa\", \"aab\"]\n",
    "find(words, orders)"
   ]
  },
  {
   "cell_type": "code",
   "execution_count": 56,
   "metadata": {},
   "outputs": [
    {
     "data": {
      "text/plain": [
       "[['b', 'a', 'c'], ['d', 'a'], ['b', 'd']]"
      ]
     },
     "execution_count": 56,
     "metadata": {},
     "output_type": "execute_result"
    }
   ],
   "source": [
    "def find2(orders):\n",
    "        \n",
    "\n"
   ]
  },
  {
   "cell_type": "code",
   "execution_count": null,
   "metadata": {
    "collapsed": true
   },
   "outputs": [],
   "source": [
    "\n"
   ]
  },
  {
   "cell_type": "code",
   "execution_count": null,
   "metadata": {
    "collapsed": true
   },
   "outputs": [],
   "source": []
  }
 ],
 "metadata": {
  "kernelspec": {
   "display_name": "Python [conda env:python3]",
   "language": "python",
   "name": "conda-env-python3-py"
  },
  "language_info": {
   "codemirror_mode": {
    "name": "ipython",
    "version": 3
   },
   "file_extension": ".py",
   "mimetype": "text/x-python",
   "name": "python",
   "nbconvert_exporter": "python",
   "pygments_lexer": "ipython3",
   "version": "3.6.2"
  }
 },
 "nbformat": 4,
 "nbformat_minor": 2
}
