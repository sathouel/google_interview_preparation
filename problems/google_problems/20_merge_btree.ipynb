{
 "cells": [
  {
   "cell_type": "markdown",
   "metadata": {},
   "source": [
    "# Problem : https://www.geeksforgeeks.org/merge-two-bsts-with-limited-extra-space/"
   ]
  },
  {
   "cell_type": "code",
   "execution_count": 1,
   "metadata": {
    "collapsed": true
   },
   "outputs": [],
   "source": [
    "t1 = {3:[1, 5],\n",
    "      1:[None, None],\n",
    "      5:[None, None],\n",
    "     }\n",
    "\n",
    "t2 = {4:[2, 6],\n",
    "      2:[None, None],\n",
    "      6:[None, None],\n",
    "     }\n",
    "\n",
    "t3 = {8:[2, 10],\n",
    "      2:[1, None],\n",
    "      1:[None, None],\n",
    "      10:[None, None],\n",
    "     }\n",
    "\n",
    "t4 = {5:[3, None],\n",
    "      3:[0, None],\n",
    "      0:[None, None]\n",
    "     }"
   ]
  },
  {
   "cell_type": "code",
   "execution_count": 20,
   "metadata": {
    "collapsed": true
   },
   "outputs": [],
   "source": [
    "def find(tree1, tree2, root1, root2):\n",
    "    stack1, stack2 = [], []\n",
    "    \n",
    "    for tree in [tree1, tree2]:\n",
    "        curr_node = root1 if tree is tree1 else root2\n",
    "        stack = stack1 if tree is tree1 else stack2\n",
    "        \n",
    "        while curr_node is not None:\n",
    "            stack.append(curr_node)\n",
    "            curr_node = tree[curr_node][0]\n",
    "    print(stack1, stack2)\n",
    "    while len(stack1) + len(stack2) > 0:\n",
    "        to_print, to_update, tree = None, None, None\n",
    "        if len(stack1) > 0 and len(stack2) > 0:\n",
    "            tree = tree1 if stack1[-1] <= stack2[-1] else tree2\n",
    "            to_update = stack1 if stack1[-1] <= stack2[-1] else stack2            \n",
    "            to_print = to_update.pop()\n",
    "            print(to_print)\n",
    "        else:\n",
    "            tree = tree1 if len(stack1) > 0 else tree2\n",
    "            to_update = stack1 if len(stack1) > 0 else stack2\n",
    "            to_print = to_update.pop()\n",
    "            print(to_print)\n",
    "    \n",
    "        curr_node = to_print\n",
    "        if tree[curr_node][1] is not None:\n",
    "            to_update.append(tree[curr_node][1])\n",
    "        \n",
    "#         print(to_update)\n",
    "        if len(to_update) > 0:\n",
    "            curr_node = tree[to_update[-1]][0]\n",
    "            while curr_node is not None and curr_node is not to_print:\n",
    "                to_update.append(curr_node)\n",
    "                curr_node = tree[curr_node][0]        \n",
    "\n",
    "    \n",
    "    return"
   ]
  },
  {
   "cell_type": "code",
   "execution_count": 22,
   "metadata": {},
   "outputs": [
    {
     "name": "stdout",
     "output_type": "stream",
     "text": [
      "[8, 2, 1] [5, 3, 0]\n",
      "0\n",
      "1\n",
      "2\n",
      "3\n",
      "5\n",
      "8\n",
      "10\n"
     ]
    }
   ],
   "source": [
    "find(t3, t4, 8, 5)"
   ]
  },
  {
   "cell_type": "code",
   "execution_count": 41,
   "metadata": {
    "collapsed": true
   },
   "outputs": [],
   "source": [
    "def inorder(tree, root):\n",
    "    if root is None:\n",
    "        return\n",
    "    for v in inorder(tree, tree[root][0]):\n",
    "        yield v\n",
    "    yield root\n",
    "    for v in inorder(tree, tree[root][1]):\n",
    "        yield v"
   ]
  },
  {
   "cell_type": "code",
   "execution_count": 43,
   "metadata": {},
   "outputs": [],
   "source": [
    "g1 = inorder(t1, 3)"
   ]
  },
  {
   "cell_type": "code",
   "execution_count": 49,
   "metadata": {},
   "outputs": [
    {
     "name": "stdout",
     "output_type": "stream",
     "text": [
      "1\n"
     ]
    }
   ],
   "source": [
    "print(g1)"
   ]
  },
  {
   "cell_type": "code",
   "execution_count": null,
   "metadata": {
    "collapsed": true
   },
   "outputs": [],
   "source": []
  }
 ],
 "metadata": {
  "kernelspec": {
   "display_name": "Python [conda env:python3]",
   "language": "python",
   "name": "conda-env-python3-py"
  },
  "language_info": {
   "codemirror_mode": {
    "name": "ipython",
    "version": 3
   },
   "file_extension": ".py",
   "mimetype": "text/x-python",
   "name": "python",
   "nbconvert_exporter": "python",
   "pygments_lexer": "ipython3",
   "version": "3.6.2"
  }
 },
 "nbformat": 4,
 "nbformat_minor": 2
}
