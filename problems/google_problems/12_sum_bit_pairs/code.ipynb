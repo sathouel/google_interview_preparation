{
 "cells": [
  {
   "cell_type": "markdown",
   "metadata": {},
   "source": [
    "Problem : https://www.geeksforgeeks.org/sum-of-bit-differences-among-all-pairs/"
   ]
  },
  {
   "cell_type": "code",
   "execution_count": 14,
   "metadata": {
    "collapsed": true
   },
   "outputs": [],
   "source": [
    "t1 = [1, 2]"
   ]
  },
  {
   "cell_type": "code",
   "execution_count": 15,
   "metadata": {},
   "outputs": [],
   "source": [
    "size_int = 4*256\n",
    "def update_hst(hst, number):\n",
    "    curr = number\n",
    "    for i in range(size_int):\n",
    "        hst[i] += (curr & 1)\n",
    "#         print(curr)\n",
    "        curr = curr >> 1\n",
    "        \n",
    "def find(arr):\n",
    "    hst = [0 for _ in range(size_int)]\n",
    "    for val in arr:\n",
    "        update_hst(hst, val)\n",
    "    \n",
    "    sol = 0\n",
    "    n = len(arr)\n",
    "    for v in hst:\n",
    "        sol += 2*v*(n-v)\n",
    "        \n",
    "    return sol"
   ]
  },
  {
   "cell_type": "code",
   "execution_count": 16,
   "metadata": {},
   "outputs": [
    {
     "data": {
      "text/plain": [
       "4"
      ]
     },
     "execution_count": 16,
     "metadata": {},
     "output_type": "execute_result"
    }
   ],
   "source": [
    "find(t1)"
   ]
  },
  {
   "cell_type": "code",
   "execution_count": null,
   "metadata": {
    "collapsed": true
   },
   "outputs": [],
   "source": []
  }
 ],
 "metadata": {
  "kernelspec": {
   "display_name": "Python [conda env:python3]",
   "language": "python",
   "name": "conda-env-python3-py"
  },
  "language_info": {
   "codemirror_mode": {
    "name": "ipython",
    "version": 3
   },
   "file_extension": ".py",
   "mimetype": "text/x-python",
   "name": "python",
   "nbconvert_exporter": "python",
   "pygments_lexer": "ipython3",
   "version": "3.6.2"
  }
 },
 "nbformat": 4,
 "nbformat_minor": 2
}
