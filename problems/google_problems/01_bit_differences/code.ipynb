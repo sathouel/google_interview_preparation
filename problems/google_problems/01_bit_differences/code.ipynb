{
 "cells": [
  {
   "cell_type": "code",
   "execution_count": 43,
   "metadata": {
    "collapsed": true
   },
   "outputs": [],
   "source": [
    "def to_base_2(number):\n",
    "    sol = []\n",
    "    curr_number = int(number)\n",
    "    while curr_number > 1:\n",
    "#         sol = [curr_number % 2] + sol\n",
    "        sol.append(curr_number % 2)\n",
    "        curr_number = int(curr_number / 2)\n",
    "    sol.append(curr_number % 2)\n",
    "    return sol"
   ]
  },
  {
   "cell_type": "code",
   "execution_count": 44,
   "metadata": {},
   "outputs": [
    {
     "data": {
      "text/plain": [
       "[0, 1]"
      ]
     },
     "execution_count": 44,
     "metadata": {},
     "output_type": "execute_result"
    }
   ],
   "source": [
    "to_base_2(2)"
   ]
  },
  {
   "cell_type": "code",
   "execution_count": 45,
   "metadata": {},
   "outputs": [],
   "source": [
    "def find(n1, n2):\n",
    "    n1_2 = to_base_2(n1)\n",
    "    n2_2 = to_base_2(n2)\n",
    "\n",
    "#     n1_2.reverse()\n",
    "#     n2_2.reverse()\n",
    "    \n",
    "    summ = 0\n",
    "    \n",
    "    longuest = n1_2 if len(n1_2) > len(n2_2) else n2_2\n",
    "    shortest = n1_2 if len(n1_2) <= len(n2_2) else n2_2\n",
    "    for i in range(len(shortest)):\n",
    "        summ += 1 if shortest[i] != longuest[i] else 0\n",
    "        \n",
    "    idx = len(shortest)\n",
    "    for j in range(len(longuest) - len(shortest)):\n",
    "        summ += longuest[idx + j]\n",
    "    \n",
    "    return summ"
   ]
  },
  {
   "cell_type": "code",
   "execution_count": 46,
   "metadata": {
    "collapsed": true
   },
   "outputs": [],
   "source": [
    "def find_sum(arr):\n",
    "    summ = 0\n",
    "    for i in range(len(arr)):\n",
    "        for j in range(len(arr) - i):\n",
    "            summ += 2 * find(arr[i], arr[i+j])\n",
    "            \n",
    "    return summ"
   ]
  },
  {
   "cell_type": "code",
   "execution_count": 47,
   "metadata": {},
   "outputs": [
    {
     "data": {
      "text/plain": [
       "8"
      ]
     },
     "execution_count": 47,
     "metadata": {},
     "output_type": "execute_result"
    }
   ],
   "source": [
    "find_sum([1, 3, 5])"
   ]
  },
  {
   "cell_type": "code",
   "execution_count": 48,
   "metadata": {},
   "outputs": [
    {
     "data": {
      "text/plain": [
       "2"
      ]
     },
     "execution_count": 48,
     "metadata": {},
     "output_type": "execute_result"
    }
   ],
   "source": [
    "find(1, 2)"
   ]
  },
  {
   "cell_type": "code",
   "execution_count": null,
   "metadata": {
    "collapsed": true
   },
   "outputs": [],
   "source": []
  }
 ],
 "metadata": {
  "kernelspec": {
   "display_name": "Python [conda env:python3]",
   "language": "python",
   "name": "conda-env-python3-py"
  },
  "language_info": {
   "codemirror_mode": {
    "name": "ipython",
    "version": 3
   },
   "file_extension": ".py",
   "mimetype": "text/x-python",
   "name": "python",
   "nbconvert_exporter": "python",
   "pygments_lexer": "ipython3",
   "version": "3.6.2"
  }
 },
 "nbformat": 4,
 "nbformat_minor": 2
}
