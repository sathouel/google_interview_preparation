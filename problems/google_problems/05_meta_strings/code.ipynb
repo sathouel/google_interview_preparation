{
 "cells": [
  {
   "cell_type": "code",
   "execution_count": 2,
   "metadata": {
    "collapsed": true
   },
   "outputs": [],
   "source": [
    "def find(str1, str2):\n",
    "    if len(str1) != len(str2):\n",
    "        return False\n",
    "    \n",
    "    dif1, dif2 = None, None\n",
    "    single_dif_only = False\n",
    "    \n",
    "    for i in range(len(str1)):\n",
    "        if str1[i] == str2[i]:\n",
    "            continue\n",
    "        \n",
    "        if dif1 is None:\n",
    "            dif1, dif2 = str1[i], str2[i]\n",
    "            continue\n",
    "            \n",
    "        if single_dif_only:\n",
    "            return False\n",
    "        \n",
    "        if str2[i] == dif1 and str1[i] == dif2:\n",
    "            single_dif_only = True\n",
    "            continue\n",
    "        else:\n",
    "            return False\n",
    "        \n",
    "    return True\n",
    "        "
   ]
  },
  {
   "cell_type": "code",
   "execution_count": 4,
   "metadata": {},
   "outputs": [
    {
     "data": {
      "text/plain": [
       "False"
      ]
     },
     "execution_count": 4,
     "metadata": {},
     "output_type": "execute_result"
    }
   ],
   "source": [
    "# str1 = \"geeks\"\n",
    "# str2 = \"keegs\"\n",
    "\n",
    "str1 = \"rsting\"\n",
    "str2 = \"string\"\n",
    "find(str1, str2)"
   ]
  },
  {
   "cell_type": "code",
   "execution_count": null,
   "metadata": {
    "collapsed": true
   },
   "outputs": [],
   "source": []
  }
 ],
 "metadata": {
  "kernelspec": {
   "display_name": "Python [conda env:python3]",
   "language": "python",
   "name": "conda-env-python3-py"
  },
  "language_info": {
   "codemirror_mode": {
    "name": "ipython",
    "version": 3
   },
   "file_extension": ".py",
   "mimetype": "text/x-python",
   "name": "python",
   "nbconvert_exporter": "python",
   "pygments_lexer": "ipython3",
   "version": "3.6.2"
  }
 },
 "nbformat": 4,
 "nbformat_minor": 2
}
