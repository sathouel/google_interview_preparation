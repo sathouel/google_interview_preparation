{
 "cells": [
  {
   "cell_type": "code",
   "execution_count": 41,
   "metadata": {
    "collapsed": true
   },
   "outputs": [],
   "source": [
    "# a = [\"OOOXOOO\", \n",
    "#      \"OXXXXXO\",\n",
    "#      \"OXOOOXO\",\n",
    "#     ]\n",
    "\n",
    "a = [\"OOOOXXO\",\n",
    "     \"OXOXOOX\",\n",
    "     \"XXXXOXO\",\n",
    "     \"OXXXOOO\"\n",
    "    ]\n",
    " \n",
    "\n",
    "\n",
    "\n",
    "grid = [list(l) for l in a]"
   ]
  },
  {
   "cell_type": "code",
   "execution_count": 42,
   "metadata": {
    "collapsed": true
   },
   "outputs": [],
   "source": [
    "def add_nei(graph, grid, i, j):\n",
    "    x, y = len(grid), len(grid[0])\n",
    "    if j != 0 and grid[i][j-1] == 'X':\n",
    "        graph[(i, j)].append((i, j-1))\n",
    "    \n",
    "    if j != y-1 and grid[i][j+1] == 'X':\n",
    "        graph[(i, j)].append((i, j+1))\n",
    "        \n",
    "    if i != 0 and grid[i-1][j] == 'X':\n",
    "        graph[(i, j)].append((i-1, j))\n",
    "        \n",
    "    if i != x-1 and grid[i+1][j] == 'X':\n",
    "        graph[(i, j)].append((i+1, j))"
   ]
  },
  {
   "cell_type": "code",
   "execution_count": 43,
   "metadata": {
    "collapsed": true
   },
   "outputs": [],
   "source": [
    "def BFS(graph, checker, start):\n",
    "    checker[start] = 0\n",
    "    queue = []\n",
    "    for nei in graph[start]:\n",
    "        queue.append(nei)\n",
    "        checker[nei] = checker[start] + 1\n",
    "        \n",
    "    while len(queue) != 0:\n",
    "        new_node = queue.pop(0)\n",
    "        for nei in graph[new_node]:\n",
    "            if checker[nei] is not None:\n",
    "                continue\n",
    "            checker[nei] = checker[new_node] + 1\n",
    "            queue.append(nei)"
   ]
  },
  {
   "cell_type": "code",
   "execution_count": 47,
   "metadata": {
    "collapsed": true
   },
   "outputs": [],
   "source": [
    "def find(grid):\n",
    "    # INIT\n",
    "    x, y = len(grid), len(grid[0])\n",
    "    graph = {}\n",
    "    checker = {}\n",
    "    for i in range(x):\n",
    "        for j in range(y):\n",
    "            if grid[i][j] == 'X':\n",
    "                graph[(i, j)] = list()\n",
    "                checker[(i, j)] = None\n",
    "                add_nei(graph, grid, i, j)\n",
    "                \n",
    "    # find sol\n",
    "    \n",
    "    counter = 0\n",
    "    for k in graph:\n",
    "        if checker[k] is None:\n",
    "            BFS(graph, checker, k)\n",
    "            counter += 1\n",
    "    print(checker)\n",
    "    return counter"
   ]
  },
  {
   "cell_type": "code",
   "execution_count": 48,
   "metadata": {},
   "outputs": [
    {
     "name": "stdout",
     "output_type": "stream",
     "text": [
      "{(0, 4): 0, (0, 5): 1, (1, 1): 0, (1, 3): 4, (1, 6): 0, (2, 0): 2, (2, 1): 1, (2, 2): 2, (2, 3): 3, (2, 5): 0, (3, 1): 2, (3, 2): 3, (3, 3): 4}\n"
     ]
    },
    {
     "data": {
      "text/plain": [
       "4"
      ]
     },
     "execution_count": 48,
     "metadata": {},
     "output_type": "execute_result"
    }
   ],
   "source": [
    "find(grid)"
   ]
  },
  {
   "cell_type": "code",
   "execution_count": 46,
   "metadata": {},
   "outputs": [
    {
     "data": {
      "text/plain": [
       "{(0, 0): 0, (0, 1): 1, (0, 2): 2, (2, 0): 0, (2, 1): 1, (2, 2): 2}"
      ]
     },
     "execution_count": 46,
     "metadata": {},
     "output_type": "execute_result"
    }
   ],
   "source": [
    "checker"
   ]
  },
  {
   "cell_type": "code",
   "execution_count": null,
   "metadata": {
    "collapsed": true
   },
   "outputs": [],
   "source": []
  }
 ],
 "metadata": {
  "kernelspec": {
   "display_name": "Python [conda env:python3]",
   "language": "python",
   "name": "conda-env-python3-py"
  },
  "language_info": {
   "codemirror_mode": {
    "name": "ipython",
    "version": 3
   },
   "file_extension": ".py",
   "mimetype": "text/x-python",
   "name": "python",
   "nbconvert_exporter": "python",
   "pygments_lexer": "ipython3",
   "version": "3.6.2"
  }
 },
 "nbformat": 4,
 "nbformat_minor": 2
}
