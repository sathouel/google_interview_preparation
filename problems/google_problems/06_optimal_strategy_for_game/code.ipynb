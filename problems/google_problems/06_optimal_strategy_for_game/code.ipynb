{
 "cells": [
  {
   "cell_type": "code",
   "execution_count": 1,
   "metadata": {
    "collapsed": true
   },
   "outputs": [],
   "source": [
    "coins = [1, 2, 3, 4, 5, 6]"
   ]
  },
  {
   "cell_type": "code",
   "execution_count": 5,
   "metadata": {
    "collapsed": true
   },
   "outputs": [],
   "source": [
    "def find(coins):\n",
    "    if len(coins) == 0:\n",
    "        return 0\n",
    "    if len(coins) == 1:\n",
    "        return coins[0]\n",
    "    if len(coins) == 2:\n",
    "        return max(coins[0], coins[1])\n",
    "    last_idx = len(coins) - 1\n",
    "    tmp = find(coins[1:last_idx-1])\n",
    "    from_top = min(tmp, find(coins[2:]))\n",
    "    from_bot = min(find(coins[:last_idx-2]),tmp)\n",
    "    return max(coins[0] + from_top, coins[last_idx] + from_bot)\n",
    "    "
   ]
  },
  {
   "cell_type": "code",
   "execution_count": 6,
   "metadata": {},
   "outputs": [
    {
     "data": {
      "text/plain": [
       "9"
      ]
     },
     "execution_count": 6,
     "metadata": {},
     "output_type": "execute_result"
    }
   ],
   "source": [
    "find(list(coins))"
   ]
  },
  {
   "cell_type": "code",
   "execution_count": null,
   "metadata": {
    "collapsed": true
   },
   "outputs": [],
   "source": []
  }
 ],
 "metadata": {
  "kernelspec": {
   "display_name": "Python [conda env:python3]",
   "language": "python",
   "name": "conda-env-python3-py"
  },
  "language_info": {
   "codemirror_mode": {
    "name": "ipython",
    "version": 3
   },
   "file_extension": ".py",
   "mimetype": "text/x-python",
   "name": "python",
   "nbconvert_exporter": "python",
   "pygments_lexer": "ipython3",
   "version": "3.6.2"
  }
 },
 "nbformat": 4,
 "nbformat_minor": 2
}
