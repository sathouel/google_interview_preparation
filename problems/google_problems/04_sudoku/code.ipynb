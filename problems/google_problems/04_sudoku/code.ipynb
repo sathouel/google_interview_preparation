{
 "cells": [
  {
   "cell_type": "code",
   "execution_count": 83,
   "metadata": {},
   "outputs": [
    {
     "name": "stdout",
     "output_type": "stream",
     "text": [
      "['3', '0', '6', '5', '0', '8', '4', '0', '0', '5', '2', '0', '0', '0', '0', '0', '0', '0', '0', '8', '7', '0', '0', '0', '0', '3', '1', '0', '0', '3', '0', '1', '0', '0', '8', '0', '9', '0', '0', '8', '6', '3', '0', '0', '5', '0', '5', '0', '0', '9', '0', '6', '0', '0', '1', '3', '0', '0', '0', '0', '2', '5', '0', '0', '0', '0', '0', '0', '0', '0', '7', '4', '0', '0', '5', '2', '0', '6', '3', '0', '0', '']\n",
      "['3', '0', '6', '5', '0', '8', '4', '0', '0', '5', '2', '0', '0', '0', '0', '0', '0', '0', '0', '8', '7', '0', '0', '0', '0', '3', '1', '0', '0', '3', '0', '1', '0', '0', '8', '0', '9', '0', '0', '8', '6', '3', '0', '0', '5', '0', '5', '0', '0', '9', '0', '6', '0', '0', '1', '3', '0', '0', '0', '0', '2', '5', '0', '0', '0', '0', '0', '0', '0', '0', '7', '4', '0', '0', '5', '2', '0', '6', '3', '0', '0']\n"
     ]
    }
   ],
   "source": [
    "grid_tmp = '3 0 6 5 0 8 4 0 0 5 2 0 0 0 0 0 0 0 0 8 7 0 0 0 0 3 1 0 0 3 0 1 0 0 8 0 9 0 0 8 6 3 0 0 5 0 5 0 0 9 0 6 0 0 1 3 0 0 0 0 2 5 0 0 0 0 0 0 0 0 7 4 0 0 5 2 0 6 3 0 0 '\n",
    "grid_tmp = grid_tmp.split(' ')\n",
    "print(grid_tmp)\n",
    "grid_tmp.pop()\n",
    "print(grid_tmp)"
   ]
  },
  {
   "cell_type": "code",
   "execution_count": 89,
   "metadata": {},
   "outputs": [
    {
     "data": {
      "text/plain": [
       "81"
      ]
     },
     "execution_count": 89,
     "metadata": {},
     "output_type": "execute_result"
    }
   ],
   "source": [
    "grid_tmp = ['3', '0', '6', '5', '0', '8', '4', '0', '0', '5', '2', '0', '0', '0', '0', '0', '0', '0', '0', '8', '7', '0', '0', '0', '0', '3', '1', '0', '0', '3', '0', '1', '0', '0', '8', '0', '9', '0', '0', '8', '6', '3', '0', '0', '5', '0', '5', '0', '0', '9', '0', '6', '0', '0', '1', '3', '0', '0', '0', '0', '2', '5', '0', '0', '0', '0', '0', '0', '0', '0', '7', '4', '0', '0', '5', '2', '0', '6', '3', '0', '0']\n",
    "\n",
    "len(grid_tmp)"
   ]
  },
  {
   "cell_type": "code",
   "execution_count": 88,
   "metadata": {
    "collapsed": true
   },
   "outputs": [],
   "source": [
    "grid_tmp = [int(x) for x in grid_tmp]"
   ]
  },
  {
   "cell_type": "code",
   "execution_count": 85,
   "metadata": {
    "collapsed": true
   },
   "outputs": [],
   "source": [
    "def input_to_grid(grid_tmp):\n",
    "    grid_tmp = grid_tmp.split(' ')\n",
    "    grid_tmp = [int(x) for x in grid_tmp]\n",
    "    grid = []\n",
    "    row = []\n",
    "    for val in grid_tmp:\n",
    "        if len(row) == 9:\n",
    "            grid.append(row)\n",
    "            row = []\n",
    "        row.append(val)\n",
    "    grid.append(row)\n",
    "    \n",
    "    return grid"
   ]
  },
  {
   "cell_type": "code",
   "execution_count": 86,
   "metadata": {},
   "outputs": [
    {
     "data": {
      "text/plain": [
       "81"
      ]
     },
     "execution_count": 86,
     "metadata": {},
     "output_type": "execute_result"
    }
   ],
   "source": [
    "len(grid_tmp)"
   ]
  },
  {
   "cell_type": "code",
   "execution_count": 67,
   "metadata": {},
   "outputs": [],
   "source": [
    "grid = []\n",
    "row = []\n",
    "for val in grid_tmp:\n",
    "    if len(row) == 9:\n",
    "        grid.append(row)\n",
    "        row = []\n",
    "    row.append(val)\n",
    "grid.append(row)"
   ]
  },
  {
   "cell_type": "code",
   "execution_count": 68,
   "metadata": {},
   "outputs": [
    {
     "data": {
      "text/plain": [
       "[[3, 0, 6, 5, 0, 8, 4, 0, 0],\n",
       " [5, 2, 0, 0, 0, 0, 0, 0, 0],\n",
       " [0, 8, 7, 0, 0, 0, 0, 3, 1],\n",
       " [0, 0, 3, 0, 1, 0, 0, 8, 0],\n",
       " [9, 0, 0, 8, 6, 3, 0, 0, 5],\n",
       " [0, 5, 0, 0, 9, 0, 6, 0, 0],\n",
       " [1, 3, 0, 0, 0, 0, 2, 5, 0],\n",
       " [0, 0, 0, 0, 0, 0, 0, 7, 4],\n",
       " [0, 0, 5, 2, 0, 6, 3, 0, 0]]"
      ]
     },
     "execution_count": 68,
     "metadata": {},
     "output_type": "execute_result"
    }
   ],
   "source": [
    "grid"
   ]
  },
  {
   "cell_type": "code",
   "execution_count": 69,
   "metadata": {},
   "outputs": [],
   "source": [
    "def check_line(grid, line_idx):\n",
    "    hist = [0] * 10\n",
    "    for val in grid[line_idx]:\n",
    "        if val == 0:\n",
    "            continue\n",
    "        hist[val] += 1\n",
    "        if hist[val] > 1:\n",
    "            return False\n",
    "    \n",
    "    return True\n",
    "\n",
    "def check_col(grid, col_idx):\n",
    "    hist = [0] * 10\n",
    "    values = [grid[i][col_idx] for i in range(9)]\n",
    "\n",
    "    for val in values:\n",
    "        if val == 0:\n",
    "            continue\n",
    "        hist[val] += 1\n",
    "        if hist[val] > 1:\n",
    "            return False\n",
    "\n",
    "    return True\n",
    "\n",
    "def check_block(grid, i, j):\n",
    "    x_block, y_block = int(i/3), int(j/3)\n",
    "    x_start, y_start = x_block * 3, y_block * 3\n",
    "    \n",
    "    values = []\n",
    "    \n",
    "    for x in range(3):\n",
    "        for y in range(3):\n",
    "            values.append(grid[x_start + x][y_start + y])\n",
    "            \n",
    "    hist = [0] * 10\n",
    "    for val in values:\n",
    "        if val == 0:\n",
    "            continue\n",
    "        hist[val] += 1\n",
    "        if hist[val] > 1:\n",
    "            return False\n",
    "    \n",
    "    return True"
   ]
  },
  {
   "cell_type": "code",
   "execution_count": 70,
   "metadata": {},
   "outputs": [
    {
     "name": "stdout",
     "output_type": "stream",
     "text": [
      "True\n",
      "True\n",
      "True\n"
     ]
    }
   ],
   "source": [
    "print(check_line(grid, 0))\n",
    "print(check_col(grid, 0))\n",
    "print(check_block(grid, 0, 0))"
   ]
  },
  {
   "cell_type": "code",
   "execution_count": 71,
   "metadata": {},
   "outputs": [],
   "source": [
    "def solve_sdk(grid, last_x, last_y):\n",
    "    if not check_line(grid, last_x) or not check_col(grid, last_y) or not check_block(grid, last_x, last_y):\n",
    "        return False\n",
    "    for x in range(9):\n",
    "        for y in range(9):\n",
    "            if grid[x][y] != 0:\n",
    "                continue\n",
    "            for val in range(1, 10):\n",
    "                grid[x][y] = val\n",
    "                filled = solve_sdk(grid, x, y)\n",
    "                if not filled:\n",
    "                    grid[x][y] = 0\n",
    "                else:\n",
    "                    break\n",
    "            if grid[x][y] == 0:\n",
    "                return False\n",
    "    return True\n",
    "    "
   ]
  },
  {
   "cell_type": "code",
   "execution_count": 72,
   "metadata": {},
   "outputs": [
    {
     "data": {
      "text/plain": [
       "True"
      ]
     },
     "execution_count": 72,
     "metadata": {},
     "output_type": "execute_result"
    }
   ],
   "source": [
    "solve_sdk(grid, 0, 0)"
   ]
  },
  {
   "cell_type": "code",
   "execution_count": 76,
   "metadata": {
    "collapsed": true
   },
   "outputs": [],
   "source": [
    "def print_grid(grid):\n",
    "    sol = ''\n",
    "    for lst in grid:\n",
    "        lst_tmp = [str(x) for x in lst]\n",
    "        sol += ' '.join(lst_tmp)\n",
    "    print(sol)"
   ]
  },
  {
   "cell_type": "code",
   "execution_count": 77,
   "metadata": {},
   "outputs": [
    {
     "name": "stdout",
     "output_type": "stream",
     "text": [
      "3 1 6 5 7 8 4 9 25 2 9 1 3 4 7 6 84 8 7 6 2 9 5 3 12 6 3 4 1 5 9 8 79 7 4 8 6 3 1 2 58 5 1 7 9 2 6 4 31 3 8 9 4 7 2 5 66 9 2 3 5 1 8 7 47 4 5 2 8 6 3 1 9\n"
     ]
    }
   ],
   "source": [
    "\n",
    "print_grid(grid)"
   ]
  },
  {
   "cell_type": "code",
   "execution_count": null,
   "metadata": {
    "collapsed": true
   },
   "outputs": [],
   "source": [
    "[[3, 1, 6, 5, 2, 8, 4, 7, 9],\n",
    " [5, 2, 4, 1, 3, 6, 8, 0, 0],\n",
    " [9, 8, 7, 4, 0, 0, 2, 3, 1],\n",
    " [2, 4, 3, 5, 1, 7, 9, 8, 0],\n",
    " [9, 1, 7, 8, 6, 3, 2, 4, 5],\n",
    " [8, 5, 0, 2, 9, 4, 6, 1, 3],\n",
    " [1, 3, 4, 7, 8, 9, 2, 5, 6],\n",
    " [2, 6, 8, 1, 3, 5, 9, 7, 4],\n",
    " [7, 9, 5, 2, 4, 6, 3, 1, 8]]"
   ]
  }
 ],
 "metadata": {
  "kernelspec": {
   "display_name": "Python [conda env:python3]",
   "language": "python",
   "name": "conda-env-python3-py"
  },
  "language_info": {
   "codemirror_mode": {
    "name": "ipython",
    "version": 3
   },
   "file_extension": ".py",
   "mimetype": "text/x-python",
   "name": "python",
   "nbconvert_exporter": "python",
   "pygments_lexer": "ipython3",
   "version": "3.6.2"
  }
 },
 "nbformat": 4,
 "nbformat_minor": 2
}
