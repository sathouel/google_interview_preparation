{
 "cells": [
  {
   "cell_type": "markdown",
   "metadata": {},
   "source": [
    "## Problem : https://www.geeksforgeeks.org/hungarian-algorithm-assignment-problem-set-1-introduction/"
   ]
  },
  {
   "cell_type": "code",
   "execution_count": 3,
   "metadata": {
    "collapsed": true
   },
   "outputs": [],
   "source": [
    "t1 = [[25, 40, 35],\n",
    "      [40, 60, 35],\n",
    "      [20, 40, 25]]\n"
   ]
  },
  {
   "cell_type": "code",
   "execution_count": 33,
   "metadata": {
    "collapsed": true
   },
   "outputs": [],
   "source": [
    "import sys\n",
    "\n",
    "def find(arr, avl_idx, curr_sum):\n",
    "    if len(avl_idx) == 0:\n",
    "        return curr_sum\n",
    "    \n",
    "    sol = sys.maxsize\n",
    "    \n",
    "    for i in avl_idx:\n",
    "        curr_sum += arr[0][i]\n",
    "        new_idx = list(avl_idx)\n",
    "        new_idx.remove(i)\n",
    "        sol_tmp = find(arr[1:], new_idx, curr_sum) \n",
    "        curr_sum -= arr[0][i]\n",
    "        sol = sol if sol <= sol_tmp else sol_tmp\n",
    "        \n",
    "    \n",
    "    return sol"
   ]
  },
  {
   "cell_type": "code",
   "execution_count": 34,
   "metadata": {},
   "outputs": [
    {
     "data": {
      "text/plain": [
       "95"
      ]
     },
     "execution_count": 34,
     "metadata": {},
     "output_type": "execute_result"
    }
   ],
   "source": [
    "import sys\n",
    "avl_idx = [i for i in range(len(t1))]\n",
    "min_sum = sys.maxsize\n",
    "curr_sum = 0\n",
    "find(t1, avl_idx, curr_sum)"
   ]
  },
  {
   "cell_type": "code",
   "execution_count": 11,
   "metadata": {},
   "outputs": [
    {
     "data": {
      "text/plain": [
       "0"
      ]
     },
     "execution_count": 11,
     "metadata": {},
     "output_type": "execute_result"
    }
   ],
   "source": [
    "curr_sum"
   ]
  },
  {
   "cell_type": "code",
   "execution_count": 36,
   "metadata": {},
   "outputs": [
    {
     "data": {
      "text/plain": [
       "[[40, 35], [40, 25]]"
      ]
     },
     "execution_count": 36,
     "metadata": {},
     "output_type": "execute_result"
    }
   ],
   "source": [
    "get_new_arr(t1, 1, 0)"
   ]
  },
  {
   "cell_type": "code",
   "execution_count": null,
   "metadata": {
    "collapsed": true
   },
   "outputs": [],
   "source": []
  }
 ],
 "metadata": {
  "kernelspec": {
   "display_name": "Python [conda env:python3]",
   "language": "python",
   "name": "conda-env-python3-py"
  },
  "language_info": {
   "codemirror_mode": {
    "name": "ipython",
    "version": 3
   },
   "file_extension": ".py",
   "mimetype": "text/x-python",
   "name": "python",
   "nbconvert_exporter": "python",
   "pygments_lexer": "ipython3",
   "version": "3.6.2"
  }
 },
 "nbformat": 4,
 "nbformat_minor": 2
}
