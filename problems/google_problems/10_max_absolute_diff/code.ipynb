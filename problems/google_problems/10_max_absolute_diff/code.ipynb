{
 "cells": [
  {
   "cell_type": "markdown",
   "metadata": {},
   "source": [
    "Problem : https://practice.geeksforgeeks.org/problems/max-absolute-difference/0"
   ]
  },
  {
   "cell_type": "code",
   "execution_count": 1,
   "metadata": {
    "collapsed": true
   },
   "outputs": [],
   "source": [
    "# let find the higher contigus subarray"
   ]
  },
  {
   "cell_type": "code",
   "execution_count": 1,
   "metadata": {
    "collapsed": true
   },
   "outputs": [],
   "source": [
    "a = [-2, -3, 4, -1, -2, 1, 5, -3]\n",
    "a1 = [-2, -3, -1]\n",
    "a2 = [1, 2, 3, 4]"
   ]
  },
  {
   "cell_type": "code",
   "execution_count": 2,
   "metadata": {
    "collapsed": true
   },
   "outputs": [],
   "source": [
    "def find(arr):\n",
    "    l = 0\n",
    "    l_best = l\n",
    "    best = arr[0]\n",
    "    \n",
    "    # step 1 : go to first non negative element\n",
    "    for i in range(len(arr)):\n",
    "        l = i\n",
    "        l_best = l_best if best > arr[i] else l\n",
    "        best = best if best > arr[i] else arr[i]\n",
    "        if arr[i] > 0:\n",
    "            break\n",
    "    \n",
    "    r, r_best = l, l_best\n",
    "    curr = best\n",
    "    \n",
    "    while r < len(arr) - 1:\n",
    "        \n",
    "        if curr + arr[r+1] >= 0:\n",
    "            curr += arr[r+1]\n",
    "            r += 1\n",
    "        elif curr + arr[r+1] < 0:\n",
    "            r += 2\n",
    "            l = r\n",
    "            if l < len(arr):\n",
    "                curr = arr[l]\n",
    "        \n",
    "        l_best = l_best if best > curr else l\n",
    "        r_best = r_best if best > curr else r\n",
    "        best = best if best > curr else curr\n",
    "        \n",
    "    return l_best, r_best, best\n",
    "        "
   ]
  },
  {
   "cell_type": "code",
   "execution_count": 5,
   "metadata": {},
   "outputs": [
    {
     "data": {
      "text/plain": [
       "(2, 6, 7)"
      ]
     },
     "execution_count": 5,
     "metadata": {},
     "output_type": "execute_result"
    }
   ],
   "source": [
    "find(a)"
   ]
  },
  {
   "cell_type": "code",
   "execution_count": 15,
   "metadata": {
    "collapsed": true
   },
   "outputs": [],
   "source": [
    "def find_final(arr):\n",
    "    step1_arr = [-x for x in arr]\n",
    "    start_max = find(arr)[2] < 0\n",
    "    if start_max:\n",
    "        step1_arr = arr\n",
    "    \n",
    "    # STEP 1\n",
    "    step1_sol = find(step1_arr)\n",
    "    tab1 = step1_arr[step1_sol[0]:step1_sol[1]+1]\n",
    "    if not start_max:\n",
    "        tab1 = [-x for x in tab1]\n",
    "    \n",
    "    # STEP 2\n",
    "    step2_arr = [-x for x in step1_arr]  \n",
    "    sol_left_arr, best_left = None, None\n",
    "    left_arr = []\n",
    "    if step1_sol[0] > 0:\n",
    "        left_arr = step2_arr[:step1_sol[0]]\n",
    "        sol_left_arr = find(left_arr)\n",
    "        best_left = sol_left_arr[2]\n",
    "        sol_left_arr = left_arr[sol_left_arr[0]:sol_left_arr[1]+1]\n",
    "        \n",
    "    sol_right_arr, best_right = None, None\n",
    "    right_arr = []\n",
    "    if step1_sol[1] < len(arr) - 1:\n",
    "        right_arr = step2_arr[step1_sol[1]+1:]\n",
    "        sol_right_arr = find(right_arr)\n",
    "        best_right = sol_right_arr[2]\n",
    "        sol_right_arr = right_arr[sol_right_arr[0]:sol_right_arr[1]+1]\n",
    "        \n",
    "    if sol_left_arr is None:\n",
    "        if not start_max:\n",
    "            return tab1, sol_right_arr\n",
    "        else:\n",
    "            sol_right_arr = [-x for x in sol_right_arr]\n",
    "            return sol_right_arr, tab1\n",
    "    elif sol_right_arr is None:\n",
    "        if not start_max:\n",
    "            return tab1, sol_left_arr\n",
    "        else:\n",
    "            sol_left_arr = [-x for x in sol_left_arr]\n",
    "            return sol_left_arr, tab1\n",
    "    else:\n",
    "        best_arr = sol_left_arr if best_left > best_right else sol_right_arr\n",
    "        if not start_max:\n",
    "            return tab1, best_arr\n",
    "        else:\n",
    "            best_arr = [-x for x in best_arr]\n",
    "            return best_arr, tab1\n",
    "\n",
    "    "
   ]
  },
  {
   "cell_type": "code",
   "execution_count": 21,
   "metadata": {},
   "outputs": [
    {
     "name": "stdout",
     "output_type": "stream",
     "text": [
      "([-1, -2, 1, -4], [2, 8])\n"
     ]
    }
   ],
   "source": [
    "print(find_final([2, -1, -2, 1, -4, 2, 8]))"
   ]
  },
  {
   "cell_type": "code",
   "execution_count": 22,
   "metadata": {},
   "outputs": [
    {
     "data": {
      "text/plain": [
       "5"
      ]
     },
     "execution_count": 22,
     "metadata": {},
     "output_type": "execute_result"
    }
   ],
   "source": [
    "abs(-5)"
   ]
  },
  {
   "cell_type": "code",
   "execution_count": null,
   "metadata": {
    "collapsed": true
   },
   "outputs": [],
   "source": []
  }
 ],
 "metadata": {
  "kernelspec": {
   "display_name": "Python [conda env:python3]",
   "language": "python",
   "name": "conda-env-python3-py"
  },
  "language_info": {
   "codemirror_mode": {
    "name": "ipython",
    "version": 3
   },
   "file_extension": ".py",
   "mimetype": "text/x-python",
   "name": "python",
   "nbconvert_exporter": "python",
   "pygments_lexer": "ipython3",
   "version": "3.6.2"
  }
 },
 "nbformat": 4,
 "nbformat_minor": 2
}
