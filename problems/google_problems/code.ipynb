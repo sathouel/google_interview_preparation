{
 "cells": [
  {
   "cell_type": "code",
   "execution_count": 1,
   "metadata": {
    "collapsed": true
   },
   "outputs": [],
   "source": [
    "lst = [\"ale\", \"apple\", \"monkey\", \"plea\"]\n",
    "word = \"abpcplea\""
   ]
  },
  {
   "cell_type": "code",
   "execution_count": 2,
   "metadata": {
    "collapsed": true
   },
   "outputs": [],
   "source": [
    "def is_subword(word, subword):\n",
    "    end = len(subword)\n",
    "    for i in range(len(word)):\n",
    "        if word[i] == subword[0] and word[i:i+end] == subword:\n",
    "            return True\n",
    "    return False\n",
    "        \n",
    "def find(lst, word):\n",
    "    max_len = 0\n",
    "    sol = None\n",
    "    for wrd in lst:\n",
    "        if is_subword(word, wrd):\n",
    "            sol = sol if max_len > len(wrd) else str(wrd)\n",
    "            max_len = max_len if max_len > len(wrd) else len(wrd)\n",
    "    return sol"
   ]
  },
  {
   "cell_type": "code",
   "execution_count": 3,
   "metadata": {},
   "outputs": [
    {
     "data": {
      "text/plain": [
       "'plea'"
      ]
     },
     "execution_count": 3,
     "metadata": {},
     "output_type": "execute_result"
    }
   ],
   "source": [
    "find(lst, word)"
   ]
  },
  {
   "cell_type": "code",
   "execution_count": 7,
   "metadata": {},
   "outputs": [
    {
     "name": "stdout",
     "output_type": "stream",
     "text": [
      "abpcplea\n",
      "bpcplea\n",
      "pcplea\n",
      "cplea\n",
      "plea\n",
      "lea\n",
      "ea\n",
      "a\n"
     ]
    }
   ],
   "source": [
    "root = dict()\n",
    "    \n",
    "for i in range(len(word)):\n",
    "    curr = root\n",
    "#     print(word[i:])\n",
    "    for l in word[i:]:\n",
    "        if curr.get(l) is None:\n",
    "            curr[l] = dict()\n",
    "        curr = curr[l]"
   ]
  },
  {
   "cell_type": "code",
   "execution_count": 12,
   "metadata": {},
   "outputs": [],
   "source": [
    "def find2(word, lst):\n",
    "    \n",
    "    root = dict()\n",
    "    for i in range(len(word)):\n",
    "        curr = root\n",
    "        for l in word[i:]:\n",
    "            if curr.get(l) is None:\n",
    "                curr[l] = dict()\n",
    "            curr = curr[l]\n",
    "    \n",
    "    best = 0\n",
    "    sol = None\n",
    "    for wrd in lst:\n",
    "        counter = 0\n",
    "        curr = root\n",
    "        for l in wrd:\n",
    "            if curr.get(l) is None:\n",
    "                counter = -1\n",
    "                break\n",
    "            counter += 1\n",
    "            curr = curr[l]\n",
    "        sol = sol if best > counter else str(wrd)\n",
    "        best = best if best > counter else counter\n",
    "    return sol"
   ]
  },
  {
   "cell_type": "code",
   "execution_count": 15,
   "metadata": {},
   "outputs": [
    {
     "data": {
      "text/plain": [
       "'geeksfor'"
      ]
     },
     "execution_count": 15,
     "metadata": {},
     "output_type": "execute_result"
    }
   ],
   "source": [
    "lst = [\"pintu\", \"geeksfor\", \"geeksgeeks\", \"forgeek\"]\n",
    "word = \"geeksforgeeks\"\n",
    "\n",
    "find2(word, lst)"
   ]
  },
  {
   "cell_type": "code",
   "execution_count": null,
   "metadata": {
    "collapsed": true
   },
   "outputs": [],
   "source": []
  }
 ],
 "metadata": {
  "kernelspec": {
   "display_name": "Python [conda env:python3]",
   "language": "python",
   "name": "conda-env-python3-py"
  },
  "language_info": {
   "codemirror_mode": {
    "name": "ipython",
    "version": 3
   },
   "file_extension": ".py",
   "mimetype": "text/x-python",
   "name": "python",
   "nbconvert_exporter": "python",
   "pygments_lexer": "ipython3",
   "version": "3.6.2"
  }
 },
 "nbformat": 4,
 "nbformat_minor": 2
}
