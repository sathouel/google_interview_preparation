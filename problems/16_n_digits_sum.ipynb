{
 "cells": [
  {
   "cell_type": "markdown",
   "metadata": {},
   "source": [
    "# Problem : https://www.geeksforgeeks.org/count-of-n-digit-numbers-whose-sum-of-digits-equals-to-given-sum/"
   ]
  },
  {
   "cell_type": "code",
   "execution_count": 1,
   "metadata": {
    "collapsed": true
   },
   "outputs": [],
   "source": [
    "n1, s1 = 2, 2 # sol 2\n",
    "n2, s2 = 2, 5 # sol 5\n",
    "n3, s3 = 3, 6 # sol 21"
   ]
  },
  {
   "cell_type": "code",
   "execution_count": 30,
   "metadata": {
    "collapsed": true
   },
   "outputs": [],
   "source": [
    "def find(n, s):\n",
    "    grid = [[0 for _ in range(n)] for _ in range(s+1)]\n",
    "    for curr_n in range(n):\n",
    "        for curr_s in range(1, s+1):\n",
    "            if curr_n == 0:\n",
    "                if curr_s >= 1 and curr_s <= 9:\n",
    "                    grid[curr_s][curr_n] = 1\n",
    "                continue\n",
    "            \n",
    "            sol = 0\n",
    "            for val in range(10):\n",
    "#                 print(s-val)\n",
    "                if curr_s - val <= 0 :\n",
    "                    continue\n",
    "                elif s - val == 0:\n",
    "                    sol += 1\n",
    "                else:\n",
    "                    sol += grid[curr_s - val][curr_n-1]\n",
    "                    \n",
    "            grid[curr_s][curr_n] = sol\n",
    "    return grid\n",
    "        "
   ]
  },
  {
   "cell_type": "code",
   "execution_count": 32,
   "metadata": {},
   "outputs": [
    {
     "name": "stdout",
     "output_type": "stream",
     "text": [
      "[0, 0, 0]\n",
      "[1, 1, 1]\n",
      "[1, 2, 3]\n",
      "[1, 3, 6]\n",
      "[1, 4, 10]\n",
      "[1, 5, 15]\n"
     ]
    }
   ],
   "source": [
    "g = find(3, 5)\n",
    "for l in g:\n",
    "    print(l)"
   ]
  },
  {
   "cell_type": "code",
   "execution_count": null,
   "metadata": {
    "collapsed": true
   },
   "outputs": [],
   "source": []
  }
 ],
 "metadata": {
  "kernelspec": {
   "display_name": "Python [conda env:python3]",
   "language": "python",
   "name": "conda-env-python3-py"
  },
  "language_info": {
   "codemirror_mode": {
    "name": "ipython",
    "version": 3
   },
   "file_extension": ".py",
   "mimetype": "text/x-python",
   "name": "python",
   "nbconvert_exporter": "python",
   "pygments_lexer": "ipython3",
   "version": "3.6.2"
  }
 },
 "nbformat": 4,
 "nbformat_minor": 2
}
