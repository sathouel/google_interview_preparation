{
 "cells": [
  {
   "cell_type": "markdown",
   "metadata": {},
   "source": [
    "# Problem : https://www.geeksforgeeks.org/dynamic-programming-set-8-matrix-chain-multiplication/"
   ]
  },
  {
   "cell_type": "code",
   "execution_count": 24,
   "metadata": {
    "collapsed": true
   },
   "outputs": [],
   "source": [
    "p1 = [40, 20, 30, 10, 30] # 26000\n",
    "p2 = [10, 20, 30, 40, 30] # 30000\n",
    "p3 = [10, 20, 30] # 6000"
   ]
  },
  {
   "cell_type": "code",
   "execution_count": 34,
   "metadata": {
    "collapsed": true
   },
   "outputs": [],
   "source": [
    "def get_dim(matrix_number, dims):\n",
    "    if matrix_number < 0 or matrix_number > len(dims) - 2:\n",
    "        return (0, 0)\n",
    "    return [dims[matrix_number], dims[matrix_number+1]]"
   ]
  },
  {
   "cell_type": "code",
   "execution_count": 35,
   "metadata": {
    "collapsed": true
   },
   "outputs": [],
   "source": [
    "def get_sets(dims):\n",
    "    # each cell in grid contains [cost, dim] when dim = (row, col)\n",
    "    min_set_size = 2\n",
    "    max_set_size = len(dims) - 1\n",
    "    mats = [x for x in range(len(dims)-1)]\n",
    "    sets = []\n",
    "    for set_size in range(min_set_size, max_set_size+1):\n",
    "        for i in range(len(dims)):\n",
    "            s = mats[i:]\n",
    "            if len(s) >= set_size:\n",
    "                sets.append(s[:set_size])\n",
    "                \n",
    "    return sets"
   ]
  },
  {
   "cell_type": "code",
   "execution_count": 36,
   "metadata": {},
   "outputs": [],
   "source": [
    "sets = get_sets(p1)"
   ]
  },
  {
   "cell_type": "code",
   "execution_count": 37,
   "metadata": {
    "collapsed": true
   },
   "outputs": [],
   "source": [
    "def get_sets_by_size(sets, dims):\n",
    "    d = {}\n",
    "    for set_size in range(2, len(dims)):\n",
    "        d[set_size] = [s for s in sets if len(s) == set_size]\n",
    "        \n",
    "    return d    "
   ]
  },
  {
   "cell_type": "code",
   "execution_count": 38,
   "metadata": {},
   "outputs": [],
   "source": [
    "d = get_sets_by_size(sets, p1)"
   ]
  },
  {
   "cell_type": "code",
   "execution_count": 62,
   "metadata": {},
   "outputs": [],
   "source": [
    "def find(dims):\n",
    "    grid = {}\n",
    "    sets = get_sets(dims)\n",
    "    sets_by_size = get_sets_by_size(sets, dims)\n",
    "    \n",
    "    for s in sets:\n",
    "#         print(s)\n",
    "        if len(s) == 2:\n",
    "            d1, d2 = get_dim(s[0], dims), get_dim(s[1], dims)\n",
    "            new_dim = [d1[0], d2[1]]\n",
    "            new_cost = d1[0] * d1[1] * d2[1]\n",
    "            grid[str(s)] = [new_cost, new_dim]\n",
    "            continue\n",
    "        \n",
    "        left, setR = s[0], s[1:]\n",
    "        costR, dimR = grid[str(setR)]\n",
    "        d_left = get_dim(left, dims)\n",
    "        new_costR = costR + d_left[0] * d_left[1] * dimR[1]\n",
    "        new_dimR = [d_left[0], dimR[1]]\n",
    "        \n",
    "        right, setL = s[-1], s[:-1]\n",
    "        costL, dimL = grid[str(setL)]\n",
    "        d_right = get_dim(right, dims)\n",
    "        new_costL = costL +  dimL[0] * d_right[0] * d_right[1]\n",
    "        new_dimL = [dimL[0], d_right[1]]\n",
    "        \n",
    "        dim_sol = new_dimL if new_costL <= new_costR else new_dimR\n",
    "        cost_sol = new_costL if new_costL <= new_costR else new_costR\n",
    "        grid[str(s)] = [cost_sol, dim_sol]\n",
    "        \n",
    "    return grid[str(sets[-1])], grid"
   ]
  },
  {
   "cell_type": "code",
   "execution_count": 63,
   "metadata": {
    "collapsed": true
   },
   "outputs": [],
   "source": [
    "p1 = [40, 20, 30, 10, 30] # 26000\n",
    "p2 = [10, 20, 30, 40, 30] # 30000\n",
    "p3 = [10, 20, 30] # 6000"
   ]
  },
  {
   "cell_type": "code",
   "execution_count": 65,
   "metadata": {},
   "outputs": [
    {
     "data": {
      "text/plain": [
       "([18, [1, 4]],\n",
       " {'[0, 1, 2]': [18, [1, 4]], '[0, 1]': [6, [1, 3]], '[1, 2]': [24, [2, 4]]})"
      ]
     },
     "execution_count": 65,
     "metadata": {},
     "output_type": "execute_result"
    }
   ],
   "source": [
    "find([1, 2, 3, 4])"
   ]
  },
  {
   "cell_type": "code",
   "execution_count": null,
   "metadata": {
    "collapsed": true
   },
   "outputs": [],
   "source": []
  }
 ],
 "metadata": {
  "kernelspec": {
   "display_name": "Python [conda env:python3]",
   "language": "python",
   "name": "conda-env-python3-py"
  },
  "language_info": {
   "codemirror_mode": {
    "name": "ipython",
    "version": 3
   },
   "file_extension": ".py",
   "mimetype": "text/x-python",
   "name": "python",
   "nbconvert_exporter": "python",
   "pygments_lexer": "ipython3",
   "version": "3.6.2"
  }
 },
 "nbformat": 4,
 "nbformat_minor": 2
}
