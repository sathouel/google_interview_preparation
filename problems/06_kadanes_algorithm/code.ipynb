{
 "cells": [
  {
   "cell_type": "code",
   "execution_count": 13,
   "metadata": {
    "collapsed": true
   },
   "outputs": [],
   "source": [
    "l = [-2, -1, -3] # sol 6"
   ]
  },
  {
   "cell_type": "code",
   "execution_count": 14,
   "metadata": {
    "collapsed": true
   },
   "outputs": [],
   "source": [
    "def find(arr):\n",
    "    l = 0\n",
    "    r = 0\n",
    "    max_sum = curr_sum = arr[0]\n",
    "    while l < len(arr) and r < len(arr):\n",
    "        max_sum = curr_sum if curr_sum > max_sum else max_sum\n",
    "        \n",
    "        if curr_sum >= 0:\n",
    "            r += 1\n",
    "            curr_sum += arr[r] if r < len(arr) else 0\n",
    "            continue\n",
    "        else:\n",
    "            \n",
    "            if l == r :\n",
    "                l += 1\n",
    "                r += 1\n",
    "                curr_sum = arr[r] if r < len(arr) else 0\n",
    "                continue \n",
    "                \n",
    "            while curr_sum < 0 and l < r:\n",
    "                curr_sum -= arr[l]\n",
    "                l += 1\n",
    "    \n",
    "    return max_sum  "
   ]
  },
  {
   "cell_type": "code",
   "execution_count": 15,
   "metadata": {},
   "outputs": [
    {
     "data": {
      "text/plain": [
       "-1"
      ]
     },
     "execution_count": 15,
     "metadata": {},
     "output_type": "execute_result"
    }
   ],
   "source": [
    "find(l)"
   ]
  }
 ],
 "metadata": {
  "kernelspec": {
   "display_name": "Python [conda env:python3]",
   "language": "python",
   "name": "conda-env-python3-py"
  },
  "language_info": {
   "codemirror_mode": {
    "name": "ipython",
    "version": 3
   },
   "file_extension": ".py",
   "mimetype": "text/x-python",
   "name": "python",
   "nbconvert_exporter": "python",
   "pygments_lexer": "ipython3",
   "version": "3.6.2"
  }
 },
 "nbformat": 4,
 "nbformat_minor": 2
}
