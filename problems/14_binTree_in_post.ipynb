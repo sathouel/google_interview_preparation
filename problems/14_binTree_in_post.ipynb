{
 "cells": [
  {
   "cell_type": "markdown",
   "metadata": {},
   "source": [
    "# Problem : https://www.geeksforgeeks.org/construct-a-binary-tree-from-postorder-and-inorder/"
   ]
  },
  {
   "cell_type": "code",
   "execution_count": 1,
   "metadata": {
    "collapsed": true
   },
   "outputs": [],
   "source": [
    "in1 = [2, 1, 3]\n",
    "post1 = [2, 3, 1]\n",
    "\n",
    "in2 = [4, 8, 2, 5, 1, 6, 3, 7]\n",
    "post2 = [8, 4, 5, 2, 6, 7, 3, 1]"
   ]
  },
  {
   "cell_type": "code",
   "execution_count": 13,
   "metadata": {
    "collapsed": true
   },
   "outputs": [],
   "source": [
    "# node == [id, sonL, sonR]\n",
    "\n",
    "def get_tree(inorder, postorder):\n",
    "    if len(inorder) == 0:\n",
    "        return None\n",
    "    post = postorder[:]\n",
    "    ino = inorder[:]\n",
    "    mapping = {'id':0, 'sonL':1, 'sonR':2}\n",
    "    curr_id = post.pop()\n",
    "    curr_id_idx = ino.index(curr_id)\n",
    "    inoL = ino[:curr_id_idx]\n",
    "    inoR = ino[curr_id_idx+1:]\n",
    "    postL = post[:len(inoL)]\n",
    "    postR = post[len(inoL):]\n",
    "    L = get_tree(inoL, postL)\n",
    "    R = get_tree(inoR, postR)\n",
    "    \n",
    "    return [curr_id, L, R]\n",
    "\n",
    "        \n",
    "    "
   ]
  },
  {
   "cell_type": "code",
   "execution_count": 16,
   "metadata": {},
   "outputs": [],
   "source": [
    "\n",
    "root = get_tree(in2, post2)"
   ]
  },
  {
   "cell_type": "code",
   "execution_count": 18,
   "metadata": {},
   "outputs": [],
   "source": [
    "def inorder_print(root):\n",
    "    if root is None:\n",
    "        return\n",
    "    inorder_print(root[1])\n",
    "    print(root[0])\n",
    "    inorder_print(root[2])"
   ]
  },
  {
   "cell_type": "code",
   "execution_count": 22,
   "metadata": {},
   "outputs": [
    {
     "data": {
      "text/plain": [
       "[2, [4, None, [8, None, None]], [5, None, None]]"
      ]
     },
     "execution_count": 22,
     "metadata": {},
     "output_type": "execute_result"
    }
   ],
   "source": [
    "root[1]"
   ]
  },
  {
   "cell_type": "code",
   "execution_count": null,
   "metadata": {
    "collapsed": true
   },
   "outputs": [],
   "source": []
  }
 ],
 "metadata": {
  "kernelspec": {
   "display_name": "Python [conda env:python3]",
   "language": "python",
   "name": "conda-env-python3-py"
  },
  "language_info": {
   "codemirror_mode": {
    "name": "ipython",
    "version": 3
   },
   "file_extension": ".py",
   "mimetype": "text/x-python",
   "name": "python",
   "nbconvert_exporter": "python",
   "pygments_lexer": "ipython3",
   "version": "3.6.2"
  }
 },
 "nbformat": 4,
 "nbformat_minor": 2
}
