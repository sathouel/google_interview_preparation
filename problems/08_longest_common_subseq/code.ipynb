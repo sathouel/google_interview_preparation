{
 "cells": [
  {
   "cell_type": "code",
   "execution_count": 9,
   "metadata": {
    "collapsed": true
   },
   "outputs": [],
   "source": [
    "str1 = \"FABCG\"\n",
    "str2 = \"ABC\"\n",
    "\n",
    "let_dict = {}\n",
    "alphabeta = \"ABCDEFGHIJKLMNOPQRSTUVWXYZ\"\n",
    "for i, l in enumerate(alphabeta):\n",
    "    let_dict[l] = i"
   ]
  },
  {
   "cell_type": "code",
   "execution_count": 10,
   "metadata": {},
   "outputs": [],
   "source": [
    "def find(str1, str2):\n",
    "    \n",
    "    let_dict = {}\n",
    "    alphabeta = \"ABCDEFGHIJKLMNOPQRSTUVWXYZ\"\n",
    "    for i, l in enumerate(alphabeta):\n",
    "        let_dict[l] = i\n",
    "    \n",
    "    root = [None] * 26\n",
    "    a_lst = root\n",
    "    for i in range(len(str1)):\n",
    "        sub_str1 = str1[i:]\n",
    "        for l in sub_str1:\n",
    "            if type(a_lst[let_dict[l]]) is not list:\n",
    "                a_lst[let_dict[l]] = [None] * 26\n",
    "            else :\n",
    "                a_lst = a_lst[let_dict[l]]\n",
    "                \n",
    "    sol = []\n",
    "    a_lst = root\n",
    "    for i in range(len(str2)):\n",
    "        sub_str2 = str2[i:]\n",
    "        curr_sub = []\n",
    "        for l in sub_str2:\n",
    "            if type(a_lst[let_dict[l]]) is not list:\n",
    "                break;\n",
    "            a_lst = a_lst[let_dict[l]]\n",
    "            curr_sub.append(l)\n",
    "            sol = list(curr_sub) if len(curr_sub) > len(sol) else sol\n",
    "            \n",
    "#     print(root)\n",
    "            \n",
    "    return ''.join(sol)\n"
   ]
  },
  {
   "cell_type": "code",
   "execution_count": 11,
   "metadata": {},
   "outputs": [
    {
     "name": "stdout",
     "output_type": "stream",
     "text": [
      "[[None, [None, None, [None, None, None, None, None, None, [None, None, None, None, None, None, None, None, None, None, None, None, None, None, None, None, None, None, None, None, None, None, None, None, None, None], None, None, None, None, None, None, None, None, None, None, None, None, None, None, None, None, None, None, None], None, None, None, [None, None, None, None, None, None, None, None, None, None, None, None, None, None, None, None, None, None, None, None, None, None, None, None, None, None], None, None, None, None, None, None, None, None, None, None, None, None, None, None, None, None, None, None, None], [None, None, None, None, None, None, None, None, None, None, None, None, None, None, None, None, None, None, None, None, None, None, None, None, None, None], None, None, None, [None, None, None, None, None, None, None, None, None, None, None, None, None, None, None, None, None, None, None, None, None, None, None, None, None, None], None, None, None, None, None, None, None, None, None, None, None, None, None, None, None, None, None, None, None], [None, None, None, None, None, None, None, None, None, None, None, None, None, None, None, None, None, None, None, None, None, None, None, None, None, None], [None, None, None, None, None, None, None, None, None, None, None, None, None, None, None, None, None, None, None, None, None, None, None, None, None, None], None, None, [None, None, None, None, None, None, None, None, None, None, None, None, None, None, None, None, None, None, None, None, None, None, None, None, None, None], [None, None, None, None, None, None, None, None, None, None, None, None, None, None, None, None, None, None, None, None, None, None, None, None, None, None], None, None, None, None, None, None, None, None, None, None, None, None, None, None, None, None, None, None, None]\n"
     ]
    },
    {
     "data": {
      "text/plain": [
       "'ABC'"
      ]
     },
     "execution_count": 11,
     "metadata": {},
     "output_type": "execute_result"
    }
   ],
   "source": [
    "find(str1, str2)"
   ]
  },
  {
   "cell_type": "markdown",
   "metadata": {},
   "source": [
    "# prob 2"
   ]
  },
  {
   "cell_type": "code",
   "execution_count": 35,
   "metadata": {},
   "outputs": [],
   "source": [
    "def find2(str1, str2):\n",
    "    let_dict = {}\n",
    "    alphabeta = \"ABCDEFGHIJKLMNOPQRSTUVWXYZ\"\n",
    "    for l in alphabeta:\n",
    "        let_dict[l] = 0\n",
    "\n",
    "    longest = str1 if len(str1) >= len(str2) else str2\n",
    "    shortest = str1 if len(str1) < len(str2) else str2\n",
    "    \n",
    "    print(\"longuest \", longest)\n",
    "    print(\"shortest \", shortest)\n",
    "    for l in longest:\n",
    "        let_dict[l] += 1\n",
    "        \n",
    "    print(let_dict)\n",
    "    sol = 0\n",
    "    \n",
    "    for l in shortest:\n",
    "        if let_dict[l] == 0:\n",
    "            continue\n",
    "        let_dict[l] -= 1\n",
    "        sol += 1\n",
    "    \n",
    "    return sol\n",
    "    "
   ]
  },
  {
   "cell_type": "code",
   "execution_count": 36,
   "metadata": {
    "collapsed": true
   },
   "outputs": [],
   "source": [
    "str1 = \"ACBVE\"\n",
    "str2 = \"ABECV\"\n",
    "# sol "
   ]
  },
  {
   "cell_type": "code",
   "execution_count": 37,
   "metadata": {},
   "outputs": [
    {
     "name": "stdout",
     "output_type": "stream",
     "text": [
      "longuest  QHNWNKUEWHSQMGBBUQCLJJIVSWMDKQTBXIXMVTRRBLJPTNSNFWZQFJMAFADRRWSOFSBCNUVQHFFBSAQXWPQCAC\n",
      "shortest  LRBBMQBHCDARZOWKKYHIDDQSCDXRJMOWFRXSJYBLDBEFSARCBYNECDYGGXXPKLORELLNMPAPQFWKHOPKMCO\n",
      "{'A': 4, 'B': 6, 'C': 4, 'D': 2, 'E': 1, 'F': 6, 'G': 1, 'H': 3, 'I': 2, 'J': 4, 'K': 2, 'L': 2, 'M': 4, 'N': 5, 'O': 1, 'P': 2, 'Q': 8, 'R': 4, 'S': 6, 'T': 3, 'U': 3, 'V': 3, 'W': 6, 'X': 3, 'Y': 0, 'Z': 1}\n"
     ]
    },
    {
     "data": {
      "text/plain": [
       "56"
      ]
     },
     "execution_count": 37,
     "metadata": {},
     "output_type": "execute_result"
    }
   ],
   "source": [
    "find2(str1, str2)"
   ]
  },
  {
   "cell_type": "markdown",
   "metadata": {},
   "source": [
    "# Sol 4"
   ]
  },
  {
   "cell_type": "code",
   "execution_count": 75,
   "metadata": {},
   "outputs": [],
   "source": [
    "def find4(str1, str2):\n",
    "    x = len(str1) + 1\n",
    "    y = len(str2) + 1\n",
    "    \n",
    "    tab = [[None] * y for _ in range(x)]\n",
    "    \n",
    "    for i, l in enumerate(tab):\n",
    "        for j in range(y):\n",
    "            if i == 0 or j == 0:\n",
    "                tab[i][j] = 0\n",
    "                continue\n",
    "            if str1[i - 1] == str2[j - 1]:\n",
    "                tab[i][j] = tab[i-1][j-1] + 1\n",
    "                continue\n",
    "            tab[i][j] = max(tab[i][j-1], tab[i-1][j])\n",
    "    return tab[x-1][y-1]"
   ]
  },
  {
   "cell_type": "code",
   "execution_count": 76,
   "metadata": {
    "collapsed": true
   },
   "outputs": [],
   "source": [
    "# str1 = \"ABC\"\n",
    "# str2 = \"AC\"\n",
    "\n",
    "str1 = \"QHNWNKUEWHSQMGBBUQCLJJIVSWMDKQTBXIXMVTRRBLJPTNSNFWZQFJMAFADRRWSOFSBCNUVQHFFBSAQXWPQCAC\"\n",
    "str2 = \"LRBBMQBHCDARZOWKKYHIDDQSCDXRJMOWFRXSJYBLDBEFSARCBYNECDYGGXXPKLORELLNMPAPQFWKHOPKMCO\""
   ]
  },
  {
   "cell_type": "code",
   "execution_count": 77,
   "metadata": {},
   "outputs": [
    {
     "data": {
      "text/plain": [
       "25"
      ]
     },
     "execution_count": 77,
     "metadata": {},
     "output_type": "execute_result"
    }
   ],
   "source": [
    "find4(str1, str2)"
   ]
  },
  {
   "cell_type": "code",
   "execution_count": null,
   "metadata": {
    "collapsed": true
   },
   "outputs": [],
   "source": []
  }
 ],
 "metadata": {
  "kernelspec": {
   "display_name": "Python [conda env:python3]",
   "language": "python",
   "name": "conda-env-python3-py"
  },
  "language_info": {
   "codemirror_mode": {
    "name": "ipython",
    "version": 3
   },
   "file_extension": ".py",
   "mimetype": "text/x-python",
   "name": "python",
   "nbconvert_exporter": "python",
   "pygments_lexer": "ipython3",
   "version": "3.6.2"
  }
 },
 "nbformat": 4,
 "nbformat_minor": 2
}
