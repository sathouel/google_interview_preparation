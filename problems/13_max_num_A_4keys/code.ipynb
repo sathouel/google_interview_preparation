{
 "cells": [
  {
   "cell_type": "markdown",
   "metadata": {},
   "source": [
    "Problem : https://www.geeksforgeeks.org/how-to-print-maximum-number-of-a-using-given-four-keys/"
   ]
  },
  {
   "cell_type": "code",
   "execution_count": 4,
   "metadata": {
    "collapsed": true
   },
   "outputs": [],
   "source": [
    "t1 = 3 # output 3\n",
    "t2 = 7 # output 9"
   ]
  },
  {
   "cell_type": "code",
   "execution_count": 5,
   "metadata": {
    "collapsed": true
   },
   "outputs": [],
   "source": [
    "def find(a_count, N, buffer):\n",
    "    if N == 0:\n",
    "        return a_count\n",
    "    if N < 3 :\n",
    "        first = find(a_count + 1, N-1, buffer)\n",
    "        second = find(a_count + buffer, N-1, buffer)\n",
    "        return max(first, second)\n",
    "    \n",
    "    first = find(a_count + 1, N-1, buffer)\n",
    "    second = find(a_count + buffer, N-1, buffer)\n",
    "    third = find(a_count * 2, N-3, a_count)\n",
    "    \n",
    "    return max(first, second, third)\n",
    "    "
   ]
  },
  {
   "cell_type": "code",
   "execution_count": 11,
   "metadata": {},
   "outputs": [
    {
     "data": {
      "text/plain": [
       "768"
      ]
     },
     "execution_count": 11,
     "metadata": {},
     "output_type": "execute_result"
    }
   ],
   "source": [
    "find(0, 23, 0)"
   ]
  },
  {
   "cell_type": "code",
   "execution_count": null,
   "metadata": {
    "collapsed": true
   },
   "outputs": [],
   "source": []
  }
 ],
 "metadata": {
  "kernelspec": {
   "display_name": "Python [conda env:python3]",
   "language": "python",
   "name": "conda-env-python3-py"
  },
  "language_info": {
   "codemirror_mode": {
    "name": "ipython",
    "version": 3
   },
   "file_extension": ".py",
   "mimetype": "text/x-python",
   "name": "python",
   "nbconvert_exporter": "python",
   "pygments_lexer": "ipython3",
   "version": "3.6.2"
  }
 },
 "nbformat": 4,
 "nbformat_minor": 2
}
